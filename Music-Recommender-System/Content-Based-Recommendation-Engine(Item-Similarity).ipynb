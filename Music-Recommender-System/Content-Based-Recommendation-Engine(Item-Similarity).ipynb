{
  "nbformat": 4,
  "nbformat_minor": 5,
  "metadata": {
    "kernelspec": {
      "display_name": "Python 3",
      "language": "python",
      "name": "python3"
    },
    "language_info": {
      "codemirror_mode": {
        "name": "ipython",
        "version": 3
      },
      "file_extension": ".py",
      "mimetype": "text/x-python",
      "name": "python",
      "nbconvert_exporter": "python",
      "pygments_lexer": "ipython3",
      "version": "3.8.8"
    },
    "colab": {
      "name": "Content-Based-Recommendation-Engine.ipynb",
      "provenance": [],
      "collapsed_sections": []
    }
  },
  "cells": [
    {
      "cell_type": "code",
      "metadata": {
        "id": "215d4dbb"
      },
      "source": [
        "import pandas as pd\n",
        "import numpy as np"
      ],
      "id": "215d4dbb",
      "execution_count": 1,
      "outputs": []
    },
    {
      "cell_type": "code",
      "metadata": {
        "id": "565e80a7"
      },
      "source": [
        "df = pd.read_csv(r'/content/processed_data.csv')"
      ],
      "id": "565e80a7",
      "execution_count": 4,
      "outputs": []
    },
    {
      "cell_type": "code",
      "metadata": {
        "id": "bd458067"
      },
      "source": [
        "class item_similarity_recommender_py():\n",
        "    def __init__(self):\n",
        "        self.train_data = None\n",
        "        self.user_id = None\n",
        "        self.item_id = None\n",
        "        self.cooccurence_matrix = None\n",
        "        self.songs_dict = None\n",
        "        self.rev_songs_dict = None\n",
        "        self.item_similarity_recommendations = None\n",
        "        \n",
        "    def get_user_items(self, user):\n",
        "        user_data = self.train_data[self.train_data[self.user_id] == user]\n",
        "        user_items = list(user_data[self.item_id].unique())\n",
        "        \n",
        "        return user_items\n",
        "        \n",
        "    def get_item_users(self, item):\n",
        "        item_data = self.train_data[self.train_data[self.item_id] == item]\n",
        "        item_users = set(item_data[self.user_id].unique())\n",
        "            \n",
        "        return item_users\n",
        "        \n",
        "    def get_all_items_train_data(self):\n",
        "        all_items = list(self.train_data[self.item_id].unique())\n",
        "            \n",
        "        return all_items\n",
        "        \n",
        "    def construct_cooccurence_matrix(self, user_songs, all_songs):\n",
        "        user_songs_users = []        \n",
        "        for i in range(0, len(user_songs)):\n",
        "            user_songs_users.append(self.get_item_users(user_songs[i]))\n",
        "        cooccurence_matrix = np.matrix(np.zeros(shape=(len(user_songs), len(all_songs))), float)\n",
        "        \n",
        "        for i in range(0,len(all_songs)):\n",
        "\n",
        "            songs_i_data = self.train_data[self.train_data[self.item_id] == all_songs[i]]\n",
        "            users_i = set(songs_i_data[self.user_id].unique())\n",
        "            \n",
        "            for j in range(0,len(user_songs)):       \n",
        "                    \n",
        "                users_j = user_songs_users[j]\n",
        "                    \n",
        "                users_intersection = users_i.intersection(users_j)\n",
        "                \n",
        "                if len(users_intersection) != 0:\n",
        "                    users_union = users_i.union(users_j)\n",
        "                    \n",
        "                    cooccurence_matrix[j,i] = float(len(users_intersection))/float(len(users_union))\n",
        "                else:\n",
        "                    cooccurence_matrix[j,i] = 0\n",
        "                    \n",
        "        \n",
        "        return cooccurence_matrix\n",
        "\n",
        "    \n",
        "    def generate_top_recommendations(self, user, cooccurence_matrix, all_songs, user_songs):\n",
        "        print(\"Non zero values in cooccurence_matrix :%d\" % np.count_nonzero(cooccurence_matrix))\n",
        "        \n",
        "        user_sim_scores = cooccurence_matrix.sum(axis=0)/float(cooccurence_matrix.shape[0])\n",
        "        user_sim_scores = np.array(user_sim_scores)[0].tolist()\n",
        " \n",
        "        sort_index = sorted(((e,i) for i,e in enumerate(list(user_sim_scores))), reverse=True)\n",
        "    \n",
        "        columns = ['user_id', 'song', 'score', 'rank']\n",
        "        df = pd.DataFrame(columns=columns)\n",
        "         \n",
        "        rank = 1 \n",
        "        for i in range(0,len(sort_index)):\n",
        "            if ~np.isnan(sort_index[i][0]) and all_songs[sort_index[i][1]] not in user_songs and rank <= 10:\n",
        "                df.loc[len(df)]=[user,all_songs[sort_index[i][1]],sort_index[i][0],rank]\n",
        "                rank = rank+1\n",
        "        \n",
        "        if df.shape[0] == 0:\n",
        "            print(\"The current user has no songs for training the item similarity based recommendation model.\")\n",
        "            return -1\n",
        "        else:\n",
        "            return df\n",
        " \n",
        "    def create(self, train_data, user_id, item_id):\n",
        "        self.train_data = train_data\n",
        "        self.user_id = user_id\n",
        "        self.item_id = item_id\n",
        "\n",
        "    def recommend(self, user):\n",
        "        user_songs = self.get_user_items(user)    \n",
        "            \n",
        "        \n",
        "        all_songs = self.get_all_items_train_data()\n",
        "        \n",
        "         \n",
        "        cooccurence_matrix = self.construct_cooccurence_matrix(user_songs, all_songs)\n",
        "        \n",
        "        df_recommendations = self.generate_top_recommendations(user, cooccurence_matrix, all_songs, user_songs)\n",
        "                \n",
        "        return list(df_recommendations.song)"
      ],
      "id": "bd458067",
      "execution_count": 37,
      "outputs": []
    },
    {
      "cell_type": "code",
      "metadata": {
        "id": "21df162c"
      },
      "source": [
        "total_play_count = sum(df.freq)\n",
        "play_count = df[['release', 'freq']].groupby('release').sum().\\\n",
        "             sort_values(by='freq',ascending=False).head(10000)\n",
        "song_subset = list(play_count.index[:10000])\n",
        "user_subset = list(df.loc[df.release.isin(song_subset), 'user_id'].unique())\n",
        "user_song_list_count_sub = df[df.release.isin(song_subset)]"
      ],
      "id": "21df162c",
      "execution_count": 38,
      "outputs": []
    },
    {
      "cell_type": "code",
      "metadata": {
        "id": "d047ee06"
      },
      "source": [
        "is_model = item_similarity_recommender_py()\n",
        "is_model.create(user_song_list_count_sub, 'user_id', 'release')"
      ],
      "id": "d047ee06",
      "execution_count": 39,
      "outputs": []
    },
    {
      "cell_type": "code",
      "metadata": {
        "colab": {
          "base_uri": "https://localhost:8080/"
        },
        "id": "e7688499",
        "outputId": "5c331db5-c60a-4789-8c5f-01f87e191c16"
      },
      "source": [
        "user_id = list(user_song_list_count_sub.user_id)[7]\n",
        "is_model.recommend(user_id)"
      ],
      "id": "e7688499",
      "execution_count": 40,
      "outputs": [
        {
          "output_type": "stream",
          "text": [
            "Non zero values in cooccurence_matrix :815\n"
          ],
          "name": "stdout"
        },
        {
          "output_type": "execute_result",
          "data": {
            "text/plain": [
              "['Undo',\n",
              " 'Revelry',\n",
              " 'Secrets',\n",
              " 'Fireflies',\n",
              " 'Horn Concerto No. 4 in E flat K495: II. Romance (Andante cantabile)',\n",
              " 'Marry Me',\n",
              " 'OMG',\n",
              " 'Tive Sim',\n",
              " 'Catch You Baby (Steve Pitron & Max Sanna Radio Edit)',\n",
              " 'Invalid']"
            ]
          },
          "metadata": {
            "tags": []
          },
          "execution_count": 40
        }
      ]
    }
  ]
}