{
 "cells": [
  {
   "cell_type": "code",
   "execution_count": 1,
   "metadata": {},
   "outputs": [],
   "source": [
    "import pandas as pd\n",
    "import numpy as np"
   ]
  },
  {
   "cell_type": "code",
   "execution_count": 2,
   "metadata": {},
   "outputs": [],
   "source": [
    "df = pd.read_csv(r\"C:\\Users\\vinay\\OneDrive\\Desktop\\DataScienceCleanStatement.csv\")"
   ]
  },
  {
   "cell_type": "code",
   "execution_count": 3,
   "metadata": {},
   "outputs": [
    {
     "data": {
      "text/html": [
       "<div>\n",
       "<style scoped>\n",
       "    .dataframe tbody tr th:only-of-type {\n",
       "        vertical-align: middle;\n",
       "    }\n",
       "\n",
       "    .dataframe tbody tr th {\n",
       "        vertical-align: top;\n",
       "    }\n",
       "\n",
       "    .dataframe thead th {\n",
       "        text-align: right;\n",
       "    }\n",
       "</style>\n",
       "<table border=\"1\" class=\"dataframe\">\n",
       "  <thead>\n",
       "    <tr style=\"text-align: right;\">\n",
       "      <th></th>\n",
       "      <th>Date</th>\n",
       "      <th>Description</th>\n",
       "      <th>InternationTransactionAmount</th>\n",
       "      <th>Category</th>\n",
       "      <th>Amount</th>\n",
       "      <th>TransactionUserName</th>\n",
       "      <th>TransactionType</th>\n",
       "      <th>IsoCurrency</th>\n",
       "      <th>Locality</th>\n",
       "      <th>City</th>\n",
       "      <th>State</th>\n",
       "      <th>Country</th>\n",
       "      <th>Unnamed: 12</th>\n",
       "    </tr>\n",
       "  </thead>\n",
       "  <tbody>\n",
       "    <tr>\n",
       "      <th>0</th>\n",
       "      <td>12/12/2019</td>\n",
       "      <td>THE ROOM               GURGAON                ...</td>\n",
       "      <td>0</td>\n",
       "      <td>Video game</td>\n",
       "      <td>-127</td>\n",
       "      <td>VIBHORE GOYAL</td>\n",
       "      <td>Domestic</td>\n",
       "      <td>INR</td>\n",
       "      <td>Central Park II</td>\n",
       "      <td>Gurugram</td>\n",
       "      <td>Haryana</td>\n",
       "      <td>India</td>\n",
       "      <td>NaN</td>\n",
       "    </tr>\n",
       "    <tr>\n",
       "      <th>1</th>\n",
       "      <td>12/12/2019</td>\n",
       "      <td>CUT AND STYLEGURGAON                          ...</td>\n",
       "      <td>0</td>\n",
       "      <td>Occupation</td>\n",
       "      <td>-499</td>\n",
       "      <td>JASJIT KAUR</td>\n",
       "      <td>Domestic</td>\n",
       "      <td>INR</td>\n",
       "      <td>Sector 4</td>\n",
       "      <td>Gurugram</td>\n",
       "      <td>Haryana</td>\n",
       "      <td>India</td>\n",
       "      <td>NaN</td>\n",
       "    </tr>\n",
       "    <tr>\n",
       "      <th>2</th>\n",
       "      <td>12/12/2019</td>\n",
       "      <td>MUMUSOGURGAON                                 ...</td>\n",
       "      <td>0</td>\n",
       "      <td></td>\n",
       "      <td>-388</td>\n",
       "      <td>JASJIT KAUR</td>\n",
       "      <td>Domestic</td>\n",
       "      <td>INR</td>\n",
       "      <td>Sector 49</td>\n",
       "      <td>Gurugram</td>\n",
       "      <td>Haryana</td>\n",
       "      <td>India</td>\n",
       "      <td>NaN</td>\n",
       "    </tr>\n",
       "    <tr>\n",
       "      <th>3</th>\n",
       "      <td>12/12/2019</td>\n",
       "      <td>THE ROOM               GURGAON                ...</td>\n",
       "      <td>0</td>\n",
       "      <td>Video game</td>\n",
       "      <td>-108</td>\n",
       "      <td>VIBHORE GOYAL</td>\n",
       "      <td>Domestic</td>\n",
       "      <td>INR</td>\n",
       "      <td>Central Park II</td>\n",
       "      <td>Gurugram</td>\n",
       "      <td>Haryana</td>\n",
       "      <td>India</td>\n",
       "      <td>NaN</td>\n",
       "    </tr>\n",
       "    <tr>\n",
       "      <th>4</th>\n",
       "      <td>12/12/2019</td>\n",
       "      <td>THE ROOM               GURGAON                ...</td>\n",
       "      <td>0</td>\n",
       "      <td>Video game</td>\n",
       "      <td>-50</td>\n",
       "      <td>VIBHORE GOYAL</td>\n",
       "      <td>Domestic</td>\n",
       "      <td>INR</td>\n",
       "      <td>Central Park II</td>\n",
       "      <td>Gurugram</td>\n",
       "      <td>Haryana</td>\n",
       "      <td>India</td>\n",
       "      <td>NaN</td>\n",
       "    </tr>\n",
       "  </tbody>\n",
       "</table>\n",
       "</div>"
      ],
      "text/plain": [
       "   Date        \\\n",
       "0  12/12/2019   \n",
       "1  12/12/2019   \n",
       "2  12/12/2019   \n",
       "3  12/12/2019   \n",
       "4  12/12/2019   \n",
       "\n",
       "  Description                                                          \\\n",
       "0  THE ROOM               GURGAON                ...                    \n",
       "1  CUT AND STYLEGURGAON                          ...                    \n",
       "2  MUMUSOGURGAON                                 ...                    \n",
       "3  THE ROOM               GURGAON                ...                    \n",
       "4  THE ROOM               GURGAON                ...                    \n",
       "\n",
       "  InternationTransactionAmount                        Category   Amount  \\\n",
       "0                            0                      Video game     -127   \n",
       "1                            0                      Occupation     -499   \n",
       "2                            0                                     -388   \n",
       "3                            0                      Video game     -108   \n",
       "4                            0                      Video game      -50   \n",
       "\n",
       "   TransactionUserName   TransactionType IsoCurrency         Locality  \\\n",
       "0         VIBHORE GOYAL         Domestic         INR  Central Park II   \n",
       "1           JASJIT KAUR         Domestic         INR         Sector 4   \n",
       "2           JASJIT KAUR         Domestic         INR        Sector 49   \n",
       "3         VIBHORE GOYAL         Domestic         INR  Central Park II   \n",
       "4         VIBHORE GOYAL         Domestic         INR  Central Park II   \n",
       "\n",
       "       City    State Country Unnamed: 12  \n",
       "0  Gurugram  Haryana   India         NaN  \n",
       "1  Gurugram  Haryana   India         NaN  \n",
       "2  Gurugram  Haryana   India         NaN  \n",
       "3  Gurugram  Haryana   India         NaN  \n",
       "4  Gurugram  Haryana   India         NaN  "
      ]
     },
     "execution_count": 3,
     "metadata": {},
     "output_type": "execute_result"
    }
   ],
   "source": [
    "df.head()"
   ]
  },
  {
   "cell_type": "code",
   "execution_count": 4,
   "metadata": {},
   "outputs": [
    {
     "data": {
      "text/plain": [
       "Date                                                                      0\n",
       "Description                                                               0\n",
       "InternationTransactionAmount                                              0\n",
       "  Category                                                                0\n",
       "  Amount                                                                  0\n",
       "TransactionUserName                                                       0\n",
       " TransactionType                                                          0\n",
       "IsoCurrency                                                               0\n",
       "Locality                                                                168\n",
       "City                                                                    200\n",
       "State                                                                   225\n",
       "Country                                                                 163\n",
       "Unnamed: 12                                                            1466\n",
       "dtype: int64"
      ]
     },
     "execution_count": 4,
     "metadata": {},
     "output_type": "execute_result"
    }
   ],
   "source": [
    "df.isnull().sum()"
   ]
  },
  {
   "cell_type": "code",
   "execution_count": 5,
   "metadata": {},
   "outputs": [],
   "source": [
    "def replace_empty_spaces(df):\n",
    "    df.replace(r'^\\s*$', np.nan, regex=True,inplace=True)\n",
    "    df.drop(columns=[\"Unnamed: 12\"],inplace=True)"
   ]
  },
  {
   "cell_type": "code",
   "execution_count": 6,
   "metadata": {},
   "outputs": [],
   "source": [
    "def order_column_name(df):\n",
    "    columns = []\n",
    "    for col in df.columns:\n",
    "        columns.append(col.strip())\n",
    "    return columns"
   ]
  },
  {
   "cell_type": "code",
   "execution_count": 7,
   "metadata": {
    "scrolled": true
   },
   "outputs": [],
   "source": [
    "def change_dtype_money1(df):\n",
    "    df = df[pd.to_numeric(df['InternationTransactionAmount'], errors='coerce').notnull()]\n",
    "    return df['InternationTransactionAmount'].astype(float)"
   ]
  },
  {
   "cell_type": "code",
   "execution_count": 8,
   "metadata": {},
   "outputs": [],
   "source": [
    "def change_dtype_money2(df):\n",
    "    df = df[pd.to_numeric(df['Amount'], errors='coerce').notnull()]\n",
    "    return df['Amount'].astype(float)"
   ]
  },
  {
   "cell_type": "code",
   "execution_count": 9,
   "metadata": {},
   "outputs": [],
   "source": [
    "def correct_date_format(date):\n",
    "    return date.replace('-','/')"
   ]
  },
  {
   "cell_type": "code",
   "execution_count": 10,
   "metadata": {},
   "outputs": [],
   "source": [
    "def change_neg_value(df):\n",
    "    return df['Amount'].apply(lambda x:abs(x))"
   ]
  },
  {
   "cell_type": "code",
   "execution_count": 11,
   "metadata": {},
   "outputs": [],
   "source": [
    "def handle_missing(df):\n",
    "    for col in df.columns:\n",
    "        if df[col].isnull().sum() > 0:\n",
    "            if df[col].dtype == np.dtype('object'):\n",
    "                df[col] = df[col].replace(np.nan,df[col].mode()[0])\n",
    "            elif df[col].dtype == np.dtype('float64'):\n",
    "                df[col] = df[col].replace(np.nan,df[col].mean())"
   ]
  },
  {
   "cell_type": "code",
   "execution_count": 12,
   "metadata": {},
   "outputs": [],
   "source": [
    "def strip_string_values(df):\n",
    "    for col in df.columns:\n",
    "        if df[col].dtype == np.dtype('object'):\n",
    "            df[col] = df[col].apply(lambda x:x.strip())"
   ]
  },
  {
   "cell_type": "code",
   "execution_count": 13,
   "metadata": {},
   "outputs": [],
   "source": [
    "def categorize(s):\n",
    "    category = ''\n",
    "    if any(x in s for x in ('Cafe', 'Restaurent', 'Food','food','cafe','restaurent','Coffee','Dish','Pasta','Cocktail','Algae','Supermarket')):\n",
    "        category = 'Food'\n",
    "    elif any(x in s for x in ('Hotel','Occupation','Massif','Railway','City','California','Hospitality','Italian','Airline','airline','Agency','US','Oceanic','Palace','Jaipur','Continent','minister','Political','Ridesharing','President','Governer','Ethno-linguistic','borough','director')):\n",
    "        category = 'Travel'\n",
    "    elif any(x in s for x in ('Video','game','Cinema','sitcom','Event','Novel','Book','Fictional','Newspaper','television','actress','Poem','actor','film','Song','study','Broadcast','model','Entertainment','Baseball','Television','Radio','Album','singer','song','festivity','Band','art','football','VFX')): ##Enterntainment\n",
    "        category = 'Entertainment'\n",
    "    elif any(x in s for x in ('Retail','Clothing','Department','Fashion','Car','Cosmetics','Mobile phone','marketing')): ##Shopping\n",
    "        category = 'Shopping'\n",
    "    elif any(x in s for x in ('Animal','Dog')): ##Pet\n",
    "        category = 'Pets'\n",
    "    elif any(x in s for x in ('Medication','Operation','chemical','Health')): ##Health\n",
    "        category = 'Health'\n",
    "    elif any(x in s for x in ('commerce','corporation','Telecommunications','Electronics','Technology','Hardware','Broadcasting','Mobile network')): ##Utilities\n",
    "        category = 'Utilities'\n",
    "    elif any(x in s for x in ('Insurance')): ##Insurence\n",
    "        category = 'Insurance'\n",
    "    else:\n",
    "        category = 'Other'\n",
    "    return category"
   ]
  },
  {
   "cell_type": "code",
   "execution_count": 14,
   "metadata": {},
   "outputs": [],
   "source": [
    "def pre_process(data):\n",
    "    df = data\n",
    "    replace_empty_spaces(df)\n",
    "    df.columns = order_column_name(df)\n",
    "    df['Date'] = df.apply(lambda x:correct_date_format(x['Date']),axis=1)\n",
    "    df['Date'] = pd.to_datetime(df['Date'],format='%d/%m/%Y')\n",
    "    df['InternationTransactionAmount'] = change_dtype_money1(df)\n",
    "    df['Amount'] = change_dtype_money2(df)\n",
    "    df['Amount'] = change_neg_value(df)\n",
    "    handle_missing(df)\n",
    "    strip_string_values(df)\n",
    "    df['MainCategory'] = df.apply(lambda x:categorize(x['Category']),axis=1)\n",
    "    return df"
   ]
  },
  {
   "cell_type": "code",
   "execution_count": 15,
   "metadata": {},
   "outputs": [],
   "source": [
    "df = pre_process(df)"
   ]
  },
  {
   "cell_type": "code",
   "execution_count": 16,
   "metadata": {},
   "outputs": [
    {
     "data": {
      "text/html": [
       "<div>\n",
       "<style scoped>\n",
       "    .dataframe tbody tr th:only-of-type {\n",
       "        vertical-align: middle;\n",
       "    }\n",
       "\n",
       "    .dataframe tbody tr th {\n",
       "        vertical-align: top;\n",
       "    }\n",
       "\n",
       "    .dataframe thead th {\n",
       "        text-align: right;\n",
       "    }\n",
       "</style>\n",
       "<table border=\"1\" class=\"dataframe\">\n",
       "  <thead>\n",
       "    <tr style=\"text-align: right;\">\n",
       "      <th></th>\n",
       "      <th>Date</th>\n",
       "      <th>Description</th>\n",
       "      <th>InternationTransactionAmount</th>\n",
       "      <th>Category</th>\n",
       "      <th>Amount</th>\n",
       "      <th>TransactionUserName</th>\n",
       "      <th>TransactionType</th>\n",
       "      <th>IsoCurrency</th>\n",
       "      <th>Locality</th>\n",
       "      <th>City</th>\n",
       "      <th>State</th>\n",
       "      <th>Country</th>\n",
       "      <th>MainCategory</th>\n",
       "    </tr>\n",
       "  </thead>\n",
       "  <tbody>\n",
       "    <tr>\n",
       "      <th>0</th>\n",
       "      <td>2019-12-12</td>\n",
       "      <td>THE ROOM               GURGAON</td>\n",
       "      <td>0.0</td>\n",
       "      <td>Video game</td>\n",
       "      <td>127.0</td>\n",
       "      <td>VIBHORE GOYAL</td>\n",
       "      <td>Domestic</td>\n",
       "      <td>INR</td>\n",
       "      <td>Central Park II</td>\n",
       "      <td>Gurugram</td>\n",
       "      <td>Haryana</td>\n",
       "      <td>India</td>\n",
       "      <td>Entertainment</td>\n",
       "    </tr>\n",
       "    <tr>\n",
       "      <th>1</th>\n",
       "      <td>2019-12-12</td>\n",
       "      <td>CUT AND STYLEGURGAON</td>\n",
       "      <td>0.0</td>\n",
       "      <td>Occupation</td>\n",
       "      <td>499.0</td>\n",
       "      <td>JASJIT KAUR</td>\n",
       "      <td>Domestic</td>\n",
       "      <td>INR</td>\n",
       "      <td>Sector 4</td>\n",
       "      <td>Gurugram</td>\n",
       "      <td>Haryana</td>\n",
       "      <td>India</td>\n",
       "      <td>Travel</td>\n",
       "    </tr>\n",
       "    <tr>\n",
       "      <th>2</th>\n",
       "      <td>2019-12-12</td>\n",
       "      <td>MUMUSOGURGAON</td>\n",
       "      <td>0.0</td>\n",
       "      <td>Cafe company</td>\n",
       "      <td>388.0</td>\n",
       "      <td>JASJIT KAUR</td>\n",
       "      <td>Domestic</td>\n",
       "      <td>INR</td>\n",
       "      <td>Sector 49</td>\n",
       "      <td>Gurugram</td>\n",
       "      <td>Haryana</td>\n",
       "      <td>India</td>\n",
       "      <td>Food</td>\n",
       "    </tr>\n",
       "    <tr>\n",
       "      <th>3</th>\n",
       "      <td>2019-12-12</td>\n",
       "      <td>THE ROOM               GURGAON</td>\n",
       "      <td>0.0</td>\n",
       "      <td>Video game</td>\n",
       "      <td>108.0</td>\n",
       "      <td>VIBHORE GOYAL</td>\n",
       "      <td>Domestic</td>\n",
       "      <td>INR</td>\n",
       "      <td>Central Park II</td>\n",
       "      <td>Gurugram</td>\n",
       "      <td>Haryana</td>\n",
       "      <td>India</td>\n",
       "      <td>Entertainment</td>\n",
       "    </tr>\n",
       "    <tr>\n",
       "      <th>4</th>\n",
       "      <td>2019-12-12</td>\n",
       "      <td>THE ROOM               GURGAON</td>\n",
       "      <td>0.0</td>\n",
       "      <td>Video game</td>\n",
       "      <td>50.0</td>\n",
       "      <td>VIBHORE GOYAL</td>\n",
       "      <td>Domestic</td>\n",
       "      <td>INR</td>\n",
       "      <td>Central Park II</td>\n",
       "      <td>Gurugram</td>\n",
       "      <td>Haryana</td>\n",
       "      <td>India</td>\n",
       "      <td>Entertainment</td>\n",
       "    </tr>\n",
       "  </tbody>\n",
       "</table>\n",
       "</div>"
      ],
      "text/plain": [
       "        Date                     Description  InternationTransactionAmount  \\\n",
       "0 2019-12-12  THE ROOM               GURGAON                           0.0   \n",
       "1 2019-12-12            CUT AND STYLEGURGAON                           0.0   \n",
       "2 2019-12-12                   MUMUSOGURGAON                           0.0   \n",
       "3 2019-12-12  THE ROOM               GURGAON                           0.0   \n",
       "4 2019-12-12  THE ROOM               GURGAON                           0.0   \n",
       "\n",
       "       Category  Amount TransactionUserName TransactionType IsoCurrency  \\\n",
       "0    Video game   127.0       VIBHORE GOYAL        Domestic         INR   \n",
       "1    Occupation   499.0         JASJIT KAUR        Domestic         INR   \n",
       "2  Cafe company   388.0         JASJIT KAUR        Domestic         INR   \n",
       "3    Video game   108.0       VIBHORE GOYAL        Domestic         INR   \n",
       "4    Video game    50.0       VIBHORE GOYAL        Domestic         INR   \n",
       "\n",
       "          Locality      City    State Country   MainCategory  \n",
       "0  Central Park II  Gurugram  Haryana   India  Entertainment  \n",
       "1         Sector 4  Gurugram  Haryana   India         Travel  \n",
       "2        Sector 49  Gurugram  Haryana   India           Food  \n",
       "3  Central Park II  Gurugram  Haryana   India  Entertainment  \n",
       "4  Central Park II  Gurugram  Haryana   India  Entertainment  "
      ]
     },
     "execution_count": 16,
     "metadata": {},
     "output_type": "execute_result"
    }
   ],
   "source": [
    "df.head()"
   ]
  },
  {
   "cell_type": "code",
   "execution_count": 17,
   "metadata": {},
   "outputs": [
    {
     "name": "stdout",
     "output_type": "stream",
     "text": [
      "<class 'pandas.core.frame.DataFrame'>\n",
      "RangeIndex: 1470 entries, 0 to 1469\n",
      "Data columns (total 13 columns):\n",
      " #   Column                        Non-Null Count  Dtype         \n",
      "---  ------                        --------------  -----         \n",
      " 0   Date                          1470 non-null   datetime64[ns]\n",
      " 1   Description                   1470 non-null   object        \n",
      " 2   InternationTransactionAmount  1470 non-null   float64       \n",
      " 3   Category                      1470 non-null   object        \n",
      " 4   Amount                        1470 non-null   float64       \n",
      " 5   TransactionUserName           1470 non-null   object        \n",
      " 6   TransactionType               1470 non-null   object        \n",
      " 7   IsoCurrency                   1470 non-null   object        \n",
      " 8   Locality                      1470 non-null   object        \n",
      " 9   City                          1470 non-null   object        \n",
      " 10  State                         1470 non-null   object        \n",
      " 11  Country                       1470 non-null   object        \n",
      " 12  MainCategory                  1470 non-null   object        \n",
      "dtypes: datetime64[ns](1), float64(2), object(10)\n",
      "memory usage: 149.4+ KB\n"
     ]
    }
   ],
   "source": [
    "df.info()"
   ]
  },
  {
   "cell_type": "code",
   "execution_count": 18,
   "metadata": {},
   "outputs": [],
   "source": [
    "df.to_csv('processed_data.csv',index=False)"
   ]
  },
  {
   "cell_type": "code",
   "execution_count": 72,
   "metadata": {},
   "outputs": [],
   "source": [
    "username = 'VIBHORE GOYAL'\n",
    "current_date = '2019-05-12'"
   ]
  },
  {
   "cell_type": "markdown",
   "metadata": {},
   "source": [
    "<b>Implementation: </b><br>\n",
    "1) First I selected the data satisfying the conditions i.e \"Username\" and \"Category\" and \"CurrentDate\"<br>\n",
    "2) Then I used DateOffset method to calculate last month by using current month.<br>\n",
    "3) Then I used pandas's grouper method to make groups of months using the \"Date\" column<br>\n",
    "4) Then I used pandas's groupby method to group the data by months and calculate the sum of \"Amount\"<br>\n",
    "5) Voila! The food expenditure of a particular person in a given date range of previous month is calculated.<br>"
   ]
  },
  {
   "cell_type": "code",
   "execution_count": 73,
   "metadata": {},
   "outputs": [],
   "source": [
    "def check_expenditure(username,category,current_date,df):\n",
    "    current_date = pd.to_datetime(current_date)\n",
    "    last_month = current_date - pd.DateOffset(months=1)\n",
    "    amount = df[(df['TransactionUserName']==username) & (df['MainCategory']==category) & (df['Date'].dt.month==last_month.month)].groupby(pd.Grouper(freq='M', key='Date'))['Amount'].sum()[0]\n",
    "    print(\"₹\",int(amount))"
   ]
  },
  {
   "cell_type": "code",
   "execution_count": 74,
   "metadata": {},
   "outputs": [
    {
     "name": "stdout",
     "output_type": "stream",
     "text": [
      "₹ 204485\n"
     ]
    }
   ],
   "source": [
    "check_expenditure(username,'Food',current_date,df)"
   ]
  },
  {
   "cell_type": "markdown",
   "metadata": {},
   "source": [
    "<b>Implementation: </b><br>\n",
    "1) First I selected the data satisfying the conditions i.e \"Username\" and \"Category\" and \"CurrentDate\"<br>\n",
    "2) Then I used DateOffset method to calculate last 3 months by using current month.<br>\n",
    "3) Then I used pandas's grouper method to make groups of months using the \"Date\" column<br>\n",
    "4) Then I used pandas's groupby method to group the data by months and calculate the sum of \"Amount\"<br>\n",
    "5) Voila! The travel expenditure of a particular person in a given date range of last 3 months is calculated.<br>"
   ]
  },
  {
   "cell_type": "code",
   "execution_count": 82,
   "metadata": {},
   "outputs": [],
   "source": [
    "def check_expenditure_last3m(username,category,current_date,df):\n",
    "    current_date = pd.to_datetime(current_date)\n",
    "    last3mon = current_date - pd.DateOffset(months=3)\n",
    "    print(df[(df['TransactionUserName']==username) & (df['MainCategory']==category) & (df['Date']>last3mon) & (df['Date']<current_date)].groupby(pd.Grouper(freq='M', key='Date'))['Amount'].sum()[:3])"
   ]
  },
  {
   "cell_type": "code",
   "execution_count": 83,
   "metadata": {},
   "outputs": [
    {
     "name": "stdout",
     "output_type": "stream",
     "text": [
      "Date\n",
      "2019-02-28    64916.74\n",
      "2019-03-31    15590.00\n",
      "2019-04-30     4993.59\n",
      "Freq: M, Name: Amount, dtype: float64\n"
     ]
    }
   ],
   "source": [
    "check_expenditure_last3m(username,'Travel',current_date,df)"
   ]
  },
  {
   "cell_type": "markdown",
   "metadata": {},
   "source": [
    "<b>Implementation: </b><br>\n",
    "1) First I selected the data satisfying the conditions i.e \"Username\" and \"Category\" i.e Shopping<br>\n",
    "2) Then I used pandas's grouper method to make groups of months using the \"Date\" column<br>\n",
    "3) Then I used pandas's groupby method to group the data by months and calculate the average of \"Amount\"<br>\n",
    "4) Then I checked if monthly average Shopping expenditure is greater than 5000 or not.<br>\n",
    "5) If it was above 5000 then I categorized that person as \"Impulsive Shopper\""
   ]
  },
  {
   "cell_type": "code",
   "execution_count": 92,
   "metadata": {},
   "outputs": [],
   "source": [
    "def is_impulsive(username):\n",
    "    if df[(df['TransactionUserName']==username)&(df['MainCategory']=='Shopping')].groupby(pd.Grouper(freq='M', key='Date'))['Amount'].sum().mean() > 5000:\n",
    "        print(\"IMPULSIVE SHOPPER\")\n",
    "    else:\n",
    "        print(\"COMPULSIVE SHOPPER\")"
   ]
  },
  {
   "cell_type": "code",
   "execution_count": 93,
   "metadata": {},
   "outputs": [
    {
     "name": "stdout",
     "output_type": "stream",
     "text": [
      "COMPULSIVE SHOPPER\n"
     ]
    }
   ],
   "source": [
    "is_impulsive(username)"
   ]
  }
 ],
 "metadata": {
  "kernelspec": {
   "display_name": "Python 3",
   "language": "python",
   "name": "python3"
  },
  "language_info": {
   "codemirror_mode": {
    "name": "ipython",
    "version": 3
   },
   "file_extension": ".py",
   "mimetype": "text/x-python",
   "name": "python",
   "nbconvert_exporter": "python",
   "pygments_lexer": "ipython3",
   "version": "3.8.5"
  }
 },
 "nbformat": 4,
 "nbformat_minor": 4
}
