{
  "nbformat": 4,
  "nbformat_minor": 0,
  "metadata": {
    "colab": {
      "name": "Cancer Death Rate.ipynb",
      "provenance": [],
      "collapsed_sections": [],
      "mount_file_id": "1kodTb4ixnLaSlIfJp5G9Dvl-_RlNQWvD",
      "authorship_tag": "ABX9TyPQYKn80fs1xnK9RASwrQRf",
      "include_colab_link": true
    },
    "kernelspec": {
      "display_name": "Python 3",
      "name": "python3"
    },
    "language_info": {
      "name": "python"
    }
  },
  "cells": [
    {
      "cell_type": "markdown",
      "metadata": {
        "id": "view-in-github",
        "colab_type": "text"
      },
      "source": [
        "<a href=\"https://colab.research.google.com/github/vinayaka16041999/Data-Science-ML-Projects/blob/master/Cancer_Death_Rate.ipynb\" target=\"_parent\"><img src=\"https://colab.research.google.com/assets/colab-badge.svg\" alt=\"Open In Colab\"/></a>"
      ]
    },
    {
      "cell_type": "markdown",
      "metadata": {
        "id": "Bzzv42aeijgx"
      },
      "source": [
        "# Import Libraries"
      ]
    },
    {
      "cell_type": "code",
      "metadata": {
        "id": "_j6b_05MhwLB"
      },
      "source": [
        "import pandas as pd\n",
        "import numpy as np\n",
        "from sklearn.preprocessing import LabelEncoder,StandardScaler\n",
        "from sklearn.ensemble import GradientBoostingRegressor\n",
        "from sklearn.metrics import mean_absolute_error\n",
        "from sklearn.model_selection import train_test_split,RandomizedSearchCV"
      ],
      "execution_count": 1,
      "outputs": []
    },
    {
      "cell_type": "markdown",
      "metadata": {
        "id": "9hfGsCdHipA6"
      },
      "source": [
        "# Load Data"
      ]
    },
    {
      "cell_type": "code",
      "metadata": {
        "id": "lbXt4PLcibAc"
      },
      "source": [
        "data = pd.read_csv(\"https://raw.githubusercontent.com/dphi-official/Datasets/master/cancer_death_rate/Training_set_label.csv\" )"
      ],
      "execution_count": 2,
      "outputs": []
    },
    {
      "cell_type": "code",
      "metadata": {
        "id": "KjBi1VRGidi7",
        "colab": {
          "base_uri": "https://localhost:8080/",
          "height": 417
        },
        "outputId": "000c2f03-fd80-4725-c677-23b31532988e"
      },
      "source": [
        "data.head()"
      ],
      "execution_count": 3,
      "outputs": [
        {
          "output_type": "execute_result",
          "data": {
            "text/html": [
              "<div>\n",
              "<style scoped>\n",
              "    .dataframe tbody tr th:only-of-type {\n",
              "        vertical-align: middle;\n",
              "    }\n",
              "\n",
              "    .dataframe tbody tr th {\n",
              "        vertical-align: top;\n",
              "    }\n",
              "\n",
              "    .dataframe thead th {\n",
              "        text-align: right;\n",
              "    }\n",
              "</style>\n",
              "<table border=\"1\" class=\"dataframe\">\n",
              "  <thead>\n",
              "    <tr style=\"text-align: right;\">\n",
              "      <th></th>\n",
              "      <th>avgAnnCount</th>\n",
              "      <th>avgDeathsPerYear</th>\n",
              "      <th>incidenceRate</th>\n",
              "      <th>medIncome</th>\n",
              "      <th>popEst2015</th>\n",
              "      <th>povertyPercent</th>\n",
              "      <th>studyPerCap</th>\n",
              "      <th>binnedInc</th>\n",
              "      <th>MedianAge</th>\n",
              "      <th>MedianAgeMale</th>\n",
              "      <th>MedianAgeFemale</th>\n",
              "      <th>Geography</th>\n",
              "      <th>AvgHouseholdSize</th>\n",
              "      <th>PercentMarried</th>\n",
              "      <th>PctNoHS18_24</th>\n",
              "      <th>PctHS18_24</th>\n",
              "      <th>PctSomeCol18_24</th>\n",
              "      <th>PctBachDeg18_24</th>\n",
              "      <th>PctHS25_Over</th>\n",
              "      <th>PctBachDeg25_Over</th>\n",
              "      <th>PctEmployed16_Over</th>\n",
              "      <th>PctUnemployed16_Over</th>\n",
              "      <th>PctPrivateCoverage</th>\n",
              "      <th>PctPrivateCoverageAlone</th>\n",
              "      <th>PctEmpPrivCoverage</th>\n",
              "      <th>PctPublicCoverage</th>\n",
              "      <th>PctPublicCoverageAlone</th>\n",
              "      <th>PctWhite</th>\n",
              "      <th>PctBlack</th>\n",
              "      <th>PctAsian</th>\n",
              "      <th>PctOtherRace</th>\n",
              "      <th>PctMarriedHouseholds</th>\n",
              "      <th>BirthRate</th>\n",
              "      <th>TARGET_deathRate</th>\n",
              "    </tr>\n",
              "  </thead>\n",
              "  <tbody>\n",
              "    <tr>\n",
              "      <th>0</th>\n",
              "      <td>19.0</td>\n",
              "      <td>8</td>\n",
              "      <td>481.5</td>\n",
              "      <td>50038</td>\n",
              "      <td>2704</td>\n",
              "      <td>11.1</td>\n",
              "      <td>0.0</td>\n",
              "      <td>(48021.6, 51046.4]</td>\n",
              "      <td>48.4</td>\n",
              "      <td>49.6</td>\n",
              "      <td>46.4</td>\n",
              "      <td>Hettinger County, North Dakota</td>\n",
              "      <td>2.25</td>\n",
              "      <td>65.9</td>\n",
              "      <td>10.8</td>\n",
              "      <td>25.0</td>\n",
              "      <td>57.4</td>\n",
              "      <td>6.8</td>\n",
              "      <td>37.1</td>\n",
              "      <td>12.2</td>\n",
              "      <td>57.4</td>\n",
              "      <td>1.1</td>\n",
              "      <td>81.2</td>\n",
              "      <td>56.0</td>\n",
              "      <td>35.7</td>\n",
              "      <td>34.7</td>\n",
              "      <td>9.9</td>\n",
              "      <td>96.032049</td>\n",
              "      <td>0.724914</td>\n",
              "      <td>0.000000</td>\n",
              "      <td>0.000000</td>\n",
              "      <td>62.511457</td>\n",
              "      <td>15.157116</td>\n",
              "      <td>160.3</td>\n",
              "    </tr>\n",
              "    <tr>\n",
              "      <th>1</th>\n",
              "      <td>88.0</td>\n",
              "      <td>34</td>\n",
              "      <td>486.0</td>\n",
              "      <td>59399</td>\n",
              "      <td>14844</td>\n",
              "      <td>9.7</td>\n",
              "      <td>0.0</td>\n",
              "      <td>(54545.6, 61494.5]</td>\n",
              "      <td>41.9</td>\n",
              "      <td>41.3</td>\n",
              "      <td>43.2</td>\n",
              "      <td>Mills County, Iowa</td>\n",
              "      <td>2.63</td>\n",
              "      <td>58.6</td>\n",
              "      <td>22.3</td>\n",
              "      <td>29.1</td>\n",
              "      <td>NaN</td>\n",
              "      <td>1.1</td>\n",
              "      <td>35.9</td>\n",
              "      <td>16.0</td>\n",
              "      <td>60.4</td>\n",
              "      <td>3.8</td>\n",
              "      <td>76.7</td>\n",
              "      <td>NaN</td>\n",
              "      <td>50.8</td>\n",
              "      <td>32.1</td>\n",
              "      <td>12.8</td>\n",
              "      <td>97.537344</td>\n",
              "      <td>0.719957</td>\n",
              "      <td>0.080743</td>\n",
              "      <td>0.040371</td>\n",
              "      <td>61.641045</td>\n",
              "      <td>3.293510</td>\n",
              "      <td>194.9</td>\n",
              "    </tr>\n",
              "    <tr>\n",
              "      <th>2</th>\n",
              "      <td>195.0</td>\n",
              "      <td>83</td>\n",
              "      <td>475.7</td>\n",
              "      <td>39721</td>\n",
              "      <td>25164</td>\n",
              "      <td>18.5</td>\n",
              "      <td>0.0</td>\n",
              "      <td>(37413.8, 40362.7]</td>\n",
              "      <td>48.9</td>\n",
              "      <td>47.9</td>\n",
              "      <td>49.9</td>\n",
              "      <td>Gladwin County, Michigan</td>\n",
              "      <td>2.30</td>\n",
              "      <td>57.2</td>\n",
              "      <td>24.9</td>\n",
              "      <td>36.2</td>\n",
              "      <td>NaN</td>\n",
              "      <td>3.5</td>\n",
              "      <td>40.2</td>\n",
              "      <td>7.6</td>\n",
              "      <td>41.2</td>\n",
              "      <td>11.0</td>\n",
              "      <td>61.6</td>\n",
              "      <td>NaN</td>\n",
              "      <td>32.1</td>\n",
              "      <td>49.8</td>\n",
              "      <td>21.6</td>\n",
              "      <td>97.576566</td>\n",
              "      <td>0.360770</td>\n",
              "      <td>0.411749</td>\n",
              "      <td>0.082350</td>\n",
              "      <td>53.978102</td>\n",
              "      <td>6.390328</td>\n",
              "      <td>196.5</td>\n",
              "    </tr>\n",
              "    <tr>\n",
              "      <th>3</th>\n",
              "      <td>116.0</td>\n",
              "      <td>55</td>\n",
              "      <td>496.6</td>\n",
              "      <td>30299</td>\n",
              "      <td>17917</td>\n",
              "      <td>28.1</td>\n",
              "      <td>0.0</td>\n",
              "      <td>[22640, 34218.1]</td>\n",
              "      <td>44.2</td>\n",
              "      <td>42.7</td>\n",
              "      <td>45.2</td>\n",
              "      <td>Fentress County, Tennessee</td>\n",
              "      <td>2.43</td>\n",
              "      <td>53.0</td>\n",
              "      <td>10.9</td>\n",
              "      <td>51.8</td>\n",
              "      <td>NaN</td>\n",
              "      <td>5.3</td>\n",
              "      <td>44.2</td>\n",
              "      <td>7.0</td>\n",
              "      <td>41.6</td>\n",
              "      <td>10.4</td>\n",
              "      <td>45.2</td>\n",
              "      <td>NaN</td>\n",
              "      <td>24.2</td>\n",
              "      <td>53.2</td>\n",
              "      <td>33.0</td>\n",
              "      <td>97.908650</td>\n",
              "      <td>0.161731</td>\n",
              "      <td>0.306731</td>\n",
              "      <td>0.340193</td>\n",
              "      <td>51.013143</td>\n",
              "      <td>5.124836</td>\n",
              "      <td>230.9</td>\n",
              "    </tr>\n",
              "    <tr>\n",
              "      <th>4</th>\n",
              "      <td>80.0</td>\n",
              "      <td>35</td>\n",
              "      <td>372.0</td>\n",
              "      <td>39625</td>\n",
              "      <td>14058</td>\n",
              "      <td>17.4</td>\n",
              "      <td>0.0</td>\n",
              "      <td>(37413.8, 40362.7]</td>\n",
              "      <td>45.0</td>\n",
              "      <td>42.2</td>\n",
              "      <td>48.0</td>\n",
              "      <td>Las Animas County, Colorado</td>\n",
              "      <td>2.36</td>\n",
              "      <td>52.2</td>\n",
              "      <td>12.6</td>\n",
              "      <td>31.2</td>\n",
              "      <td>NaN</td>\n",
              "      <td>0.2</td>\n",
              "      <td>28.3</td>\n",
              "      <td>10.5</td>\n",
              "      <td>49.3</td>\n",
              "      <td>9.2</td>\n",
              "      <td>56.6</td>\n",
              "      <td>NaN</td>\n",
              "      <td>33.4</td>\n",
              "      <td>43.0</td>\n",
              "      <td>24.7</td>\n",
              "      <td>82.672551</td>\n",
              "      <td>1.834103</td>\n",
              "      <td>0.682617</td>\n",
              "      <td>8.253465</td>\n",
              "      <td>50.566426</td>\n",
              "      <td>3.897033</td>\n",
              "      <td>162.2</td>\n",
              "    </tr>\n",
              "  </tbody>\n",
              "</table>\n",
              "</div>"
            ],
            "text/plain": [
              "   avgAnnCount  avgDeathsPerYear  ...  BirthRate  TARGET_deathRate\n",
              "0         19.0                 8  ...  15.157116             160.3\n",
              "1         88.0                34  ...   3.293510             194.9\n",
              "2        195.0                83  ...   6.390328             196.5\n",
              "3        116.0                55  ...   5.124836             230.9\n",
              "4         80.0                35  ...   3.897033             162.2\n",
              "\n",
              "[5 rows x 34 columns]"
            ]
          },
          "metadata": {
            "tags": []
          },
          "execution_count": 3
        }
      ]
    },
    {
      "cell_type": "markdown",
      "metadata": {
        "id": "G89lkTbTi2TR"
      },
      "source": [
        "# EDA"
      ]
    },
    {
      "cell_type": "code",
      "metadata": {
        "id": "RX9MTSOwisPm",
        "colab": {
          "base_uri": "https://localhost:8080/",
          "height": 304
        },
        "outputId": "fdda3dc1-9335-43ef-d4b2-5ca0b4b4b29c"
      },
      "source": [
        "data.describe()"
      ],
      "execution_count": 4,
      "outputs": [
        {
          "output_type": "execute_result",
          "data": {
            "text/html": [
              "<div>\n",
              "<style scoped>\n",
              "    .dataframe tbody tr th:only-of-type {\n",
              "        vertical-align: middle;\n",
              "    }\n",
              "\n",
              "    .dataframe tbody tr th {\n",
              "        vertical-align: top;\n",
              "    }\n",
              "\n",
              "    .dataframe thead th {\n",
              "        text-align: right;\n",
              "    }\n",
              "</style>\n",
              "<table border=\"1\" class=\"dataframe\">\n",
              "  <thead>\n",
              "    <tr style=\"text-align: right;\">\n",
              "      <th></th>\n",
              "      <th>avgAnnCount</th>\n",
              "      <th>avgDeathsPerYear</th>\n",
              "      <th>incidenceRate</th>\n",
              "      <th>medIncome</th>\n",
              "      <th>popEst2015</th>\n",
              "      <th>povertyPercent</th>\n",
              "      <th>studyPerCap</th>\n",
              "      <th>MedianAge</th>\n",
              "      <th>MedianAgeMale</th>\n",
              "      <th>MedianAgeFemale</th>\n",
              "      <th>AvgHouseholdSize</th>\n",
              "      <th>PercentMarried</th>\n",
              "      <th>PctNoHS18_24</th>\n",
              "      <th>PctHS18_24</th>\n",
              "      <th>PctSomeCol18_24</th>\n",
              "      <th>PctBachDeg18_24</th>\n",
              "      <th>PctHS25_Over</th>\n",
              "      <th>PctBachDeg25_Over</th>\n",
              "      <th>PctEmployed16_Over</th>\n",
              "      <th>PctUnemployed16_Over</th>\n",
              "      <th>PctPrivateCoverage</th>\n",
              "      <th>PctPrivateCoverageAlone</th>\n",
              "      <th>PctEmpPrivCoverage</th>\n",
              "      <th>PctPublicCoverage</th>\n",
              "      <th>PctPublicCoverageAlone</th>\n",
              "      <th>PctWhite</th>\n",
              "      <th>PctBlack</th>\n",
              "      <th>PctAsian</th>\n",
              "      <th>PctOtherRace</th>\n",
              "      <th>PctMarriedHouseholds</th>\n",
              "      <th>BirthRate</th>\n",
              "      <th>TARGET_deathRate</th>\n",
              "    </tr>\n",
              "  </thead>\n",
              "  <tbody>\n",
              "    <tr>\n",
              "      <th>count</th>\n",
              "      <td>3051.000000</td>\n",
              "      <td>3051.000000</td>\n",
              "      <td>3051.000000</td>\n",
              "      <td>3051.000000</td>\n",
              "      <td>3.051000e+03</td>\n",
              "      <td>3051.000000</td>\n",
              "      <td>3051.000000</td>\n",
              "      <td>3051.000000</td>\n",
              "      <td>3051.000000</td>\n",
              "      <td>3051.000000</td>\n",
              "      <td>3051.000000</td>\n",
              "      <td>3051.000000</td>\n",
              "      <td>3051.000000</td>\n",
              "      <td>3051.000000</td>\n",
              "      <td>785.000000</td>\n",
              "      <td>3051.000000</td>\n",
              "      <td>3051.000000</td>\n",
              "      <td>3051.000000</td>\n",
              "      <td>2899.000000</td>\n",
              "      <td>3051.000000</td>\n",
              "      <td>3051.000000</td>\n",
              "      <td>2447.000000</td>\n",
              "      <td>3051.000000</td>\n",
              "      <td>3051.000000</td>\n",
              "      <td>3051.000000</td>\n",
              "      <td>3051.000000</td>\n",
              "      <td>3051.000000</td>\n",
              "      <td>3051.000000</td>\n",
              "      <td>3051.000000</td>\n",
              "      <td>3051.000000</td>\n",
              "      <td>3051.000000</td>\n",
              "      <td>3051.000000</td>\n",
              "    </tr>\n",
              "    <tr>\n",
              "      <th>mean</th>\n",
              "      <td>570.668154</td>\n",
              "      <td>176.000983</td>\n",
              "      <td>449.007042</td>\n",
              "      <td>46902.917076</td>\n",
              "      <td>9.495799e+04</td>\n",
              "      <td>16.880367</td>\n",
              "      <td>158.695936</td>\n",
              "      <td>44.303540</td>\n",
              "      <td>39.600885</td>\n",
              "      <td>42.234579</td>\n",
              "      <td>2.473048</td>\n",
              "      <td>51.885480</td>\n",
              "      <td>18.225139</td>\n",
              "      <td>34.920190</td>\n",
              "      <td>41.247898</td>\n",
              "      <td>6.131957</td>\n",
              "      <td>34.909440</td>\n",
              "      <td>13.212750</td>\n",
              "      <td>54.115626</td>\n",
              "      <td>7.841069</td>\n",
              "      <td>64.519338</td>\n",
              "      <td>48.573314</td>\n",
              "      <td>41.342347</td>\n",
              "      <td>36.287545</td>\n",
              "      <td>19.198820</td>\n",
              "      <td>84.005243</td>\n",
              "      <td>9.166570</td>\n",
              "      <td>1.198561</td>\n",
              "      <td>1.864829</td>\n",
              "      <td>51.355837</td>\n",
              "      <td>5.608851</td>\n",
              "      <td>178.909767</td>\n",
              "    </tr>\n",
              "    <tr>\n",
              "      <th>std</th>\n",
              "      <td>1250.546532</td>\n",
              "      <td>445.042777</td>\n",
              "      <td>52.886386</td>\n",
              "      <td>11902.460659</td>\n",
              "      <td>2.761007e+05</td>\n",
              "      <td>6.340462</td>\n",
              "      <td>544.035590</td>\n",
              "      <td>38.704107</td>\n",
              "      <td>5.177629</td>\n",
              "      <td>5.253474</td>\n",
              "      <td>0.429926</td>\n",
              "      <td>6.812846</td>\n",
              "      <td>8.105799</td>\n",
              "      <td>9.021475</td>\n",
              "      <td>11.107006</td>\n",
              "      <td>4.552222</td>\n",
              "      <td>7.015728</td>\n",
              "      <td>5.360342</td>\n",
              "      <td>8.267656</td>\n",
              "      <td>3.454863</td>\n",
              "      <td>10.511932</td>\n",
              "      <td>10.011218</td>\n",
              "      <td>9.327793</td>\n",
              "      <td>7.748442</td>\n",
              "      <td>6.023164</td>\n",
              "      <td>16.126982</td>\n",
              "      <td>14.676772</td>\n",
              "      <td>2.369931</td>\n",
              "      <td>3.235204</td>\n",
              "      <td>6.524964</td>\n",
              "      <td>1.955201</td>\n",
              "      <td>27.570075</td>\n",
              "    </tr>\n",
              "    <tr>\n",
              "      <th>min</th>\n",
              "      <td>6.000000</td>\n",
              "      <td>3.000000</td>\n",
              "      <td>211.100000</td>\n",
              "      <td>22640.000000</td>\n",
              "      <td>8.270000e+02</td>\n",
              "      <td>3.200000</td>\n",
              "      <td>0.000000</td>\n",
              "      <td>22.300000</td>\n",
              "      <td>22.400000</td>\n",
              "      <td>22.300000</td>\n",
              "      <td>0.022100</td>\n",
              "      <td>25.100000</td>\n",
              "      <td>0.000000</td>\n",
              "      <td>0.000000</td>\n",
              "      <td>7.100000</td>\n",
              "      <td>0.000000</td>\n",
              "      <td>7.500000</td>\n",
              "      <td>3.200000</td>\n",
              "      <td>17.600000</td>\n",
              "      <td>0.400000</td>\n",
              "      <td>23.400000</td>\n",
              "      <td>16.800000</td>\n",
              "      <td>14.300000</td>\n",
              "      <td>11.800000</td>\n",
              "      <td>2.600000</td>\n",
              "      <td>11.008762</td>\n",
              "      <td>0.000000</td>\n",
              "      <td>0.000000</td>\n",
              "      <td>0.000000</td>\n",
              "      <td>23.915652</td>\n",
              "      <td>0.000000</td>\n",
              "      <td>66.300000</td>\n",
              "    </tr>\n",
              "    <tr>\n",
              "      <th>25%</th>\n",
              "      <td>80.000000</td>\n",
              "      <td>29.000000</td>\n",
              "      <td>421.800000</td>\n",
              "      <td>38752.000000</td>\n",
              "      <td>1.236850e+04</td>\n",
              "      <td>12.200000</td>\n",
              "      <td>0.000000</td>\n",
              "      <td>37.900000</td>\n",
              "      <td>36.400000</td>\n",
              "      <td>39.200000</td>\n",
              "      <td>2.370000</td>\n",
              "      <td>47.800000</td>\n",
              "      <td>12.800000</td>\n",
              "      <td>29.300000</td>\n",
              "      <td>34.000000</td>\n",
              "      <td>3.100000</td>\n",
              "      <td>30.650000</td>\n",
              "      <td>9.300000</td>\n",
              "      <td>48.600000</td>\n",
              "      <td>5.500000</td>\n",
              "      <td>57.500000</td>\n",
              "      <td>41.300000</td>\n",
              "      <td>34.700000</td>\n",
              "      <td>31.000000</td>\n",
              "      <td>14.900000</td>\n",
              "      <td>78.012571</td>\n",
              "      <td>0.616576</td>\n",
              "      <td>0.261748</td>\n",
              "      <td>0.282825</td>\n",
              "      <td>47.736828</td>\n",
              "      <td>4.499936</td>\n",
              "      <td>161.400000</td>\n",
              "    </tr>\n",
              "    <tr>\n",
              "      <th>50%</th>\n",
              "      <td>171.000000</td>\n",
              "      <td>62.000000</td>\n",
              "      <td>453.549422</td>\n",
              "      <td>45098.000000</td>\n",
              "      <td>2.677700e+04</td>\n",
              "      <td>15.900000</td>\n",
              "      <td>0.000000</td>\n",
              "      <td>41.000000</td>\n",
              "      <td>39.500000</td>\n",
              "      <td>42.400000</td>\n",
              "      <td>2.500000</td>\n",
              "      <td>52.500000</td>\n",
              "      <td>17.200000</td>\n",
              "      <td>34.700000</td>\n",
              "      <td>41.000000</td>\n",
              "      <td>5.300000</td>\n",
              "      <td>35.400000</td>\n",
              "      <td>12.300000</td>\n",
              "      <td>54.400000</td>\n",
              "      <td>7.600000</td>\n",
              "      <td>65.300000</td>\n",
              "      <td>48.700000</td>\n",
              "      <td>41.300000</td>\n",
              "      <td>36.300000</td>\n",
              "      <td>18.800000</td>\n",
              "      <td>90.318790</td>\n",
              "      <td>2.276756</td>\n",
              "      <td>0.557031</td>\n",
              "      <td>0.791571</td>\n",
              "      <td>51.757925</td>\n",
              "      <td>5.384471</td>\n",
              "      <td>178.300000</td>\n",
              "    </tr>\n",
              "    <tr>\n",
              "      <th>75%</th>\n",
              "      <td>508.000000</td>\n",
              "      <td>148.000000</td>\n",
              "      <td>481.300000</td>\n",
              "      <td>52410.500000</td>\n",
              "      <td>6.853600e+04</td>\n",
              "      <td>20.400000</td>\n",
              "      <td>86.581336</td>\n",
              "      <td>43.900000</td>\n",
              "      <td>42.500000</td>\n",
              "      <td>45.300000</td>\n",
              "      <td>2.630000</td>\n",
              "      <td>56.500000</td>\n",
              "      <td>22.600000</td>\n",
              "      <td>40.700000</td>\n",
              "      <td>46.900000</td>\n",
              "      <td>8.100000</td>\n",
              "      <td>39.700000</td>\n",
              "      <td>16.100000</td>\n",
              "      <td>60.300000</td>\n",
              "      <td>9.700000</td>\n",
              "      <td>72.200000</td>\n",
              "      <td>55.700000</td>\n",
              "      <td>47.700000</td>\n",
              "      <td>41.400000</td>\n",
              "      <td>23.000000</td>\n",
              "      <td>95.577396</td>\n",
              "      <td>10.326954</td>\n",
              "      <td>1.189955</td>\n",
              "      <td>2.080241</td>\n",
              "      <td>55.465803</td>\n",
              "      <td>6.473896</td>\n",
              "      <td>195.500000</td>\n",
              "    </tr>\n",
              "    <tr>\n",
              "      <th>max</th>\n",
              "      <td>24965.000000</td>\n",
              "      <td>9445.000000</td>\n",
              "      <td>1206.900000</td>\n",
              "      <td>125635.000000</td>\n",
              "      <td>5.238216e+06</td>\n",
              "      <td>47.000000</td>\n",
              "      <td>9762.308998</td>\n",
              "      <td>525.600000</td>\n",
              "      <td>64.700000</td>\n",
              "      <td>65.700000</td>\n",
              "      <td>3.930000</td>\n",
              "      <td>72.500000</td>\n",
              "      <td>64.100000</td>\n",
              "      <td>72.500000</td>\n",
              "      <td>79.000000</td>\n",
              "      <td>51.800000</td>\n",
              "      <td>54.800000</td>\n",
              "      <td>40.400000</td>\n",
              "      <td>76.500000</td>\n",
              "      <td>29.400000</td>\n",
              "      <td>92.300000</td>\n",
              "      <td>78.900000</td>\n",
              "      <td>70.700000</td>\n",
              "      <td>65.100000</td>\n",
              "      <td>46.600000</td>\n",
              "      <td>100.000000</td>\n",
              "      <td>84.866024</td>\n",
              "      <td>35.640183</td>\n",
              "      <td>38.743747</td>\n",
              "      <td>71.703057</td>\n",
              "      <td>21.326165</td>\n",
              "      <td>362.800000</td>\n",
              "    </tr>\n",
              "  </tbody>\n",
              "</table>\n",
              "</div>"
            ],
            "text/plain": [
              "        avgAnnCount  avgDeathsPerYear  ...    BirthRate  TARGET_deathRate\n",
              "count   3051.000000       3051.000000  ...  3051.000000       3051.000000\n",
              "mean     570.668154        176.000983  ...     5.608851        178.909767\n",
              "std     1250.546532        445.042777  ...     1.955201         27.570075\n",
              "min        6.000000          3.000000  ...     0.000000         66.300000\n",
              "25%       80.000000         29.000000  ...     4.499936        161.400000\n",
              "50%      171.000000         62.000000  ...     5.384471        178.300000\n",
              "75%      508.000000        148.000000  ...     6.473896        195.500000\n",
              "max    24965.000000       9445.000000  ...    21.326165        362.800000\n",
              "\n",
              "[8 rows x 32 columns]"
            ]
          },
          "metadata": {
            "tags": []
          },
          "execution_count": 4
        }
      ]
    },
    {
      "cell_type": "code",
      "metadata": {
        "id": "EYEuXlPDi59l",
        "colab": {
          "base_uri": "https://localhost:8080/"
        },
        "outputId": "acd712d0-9b1f-4011-e1be-0977d19045c3"
      },
      "source": [
        "data.info()"
      ],
      "execution_count": 5,
      "outputs": [
        {
          "output_type": "stream",
          "text": [
            "<class 'pandas.core.frame.DataFrame'>\n",
            "RangeIndex: 3051 entries, 0 to 3050\n",
            "Data columns (total 34 columns):\n",
            " #   Column                   Non-Null Count  Dtype  \n",
            "---  ------                   --------------  -----  \n",
            " 0   avgAnnCount              3051 non-null   float64\n",
            " 1   avgDeathsPerYear         3051 non-null   int64  \n",
            " 2   incidenceRate            3051 non-null   float64\n",
            " 3   medIncome                3051 non-null   int64  \n",
            " 4   popEst2015               3051 non-null   int64  \n",
            " 5   povertyPercent           3051 non-null   float64\n",
            " 6   studyPerCap              3051 non-null   float64\n",
            " 7   binnedInc                3051 non-null   object \n",
            " 8   MedianAge                3051 non-null   float64\n",
            " 9   MedianAgeMale            3051 non-null   float64\n",
            " 10  MedianAgeFemale          3051 non-null   float64\n",
            " 11  Geography                3051 non-null   object \n",
            " 12  AvgHouseholdSize         3051 non-null   float64\n",
            " 13  PercentMarried           3051 non-null   float64\n",
            " 14  PctNoHS18_24             3051 non-null   float64\n",
            " 15  PctHS18_24               3051 non-null   float64\n",
            " 16  PctSomeCol18_24          785 non-null    float64\n",
            " 17  PctBachDeg18_24          3051 non-null   float64\n",
            " 18  PctHS25_Over             3051 non-null   float64\n",
            " 19  PctBachDeg25_Over        3051 non-null   float64\n",
            " 20  PctEmployed16_Over       2899 non-null   float64\n",
            " 21  PctUnemployed16_Over     3051 non-null   float64\n",
            " 22  PctPrivateCoverage       3051 non-null   float64\n",
            " 23  PctPrivateCoverageAlone  2447 non-null   float64\n",
            " 24  PctEmpPrivCoverage       3051 non-null   float64\n",
            " 25  PctPublicCoverage        3051 non-null   float64\n",
            " 26  PctPublicCoverageAlone   3051 non-null   float64\n",
            " 27  PctWhite                 3051 non-null   float64\n",
            " 28  PctBlack                 3051 non-null   float64\n",
            " 29  PctAsian                 3051 non-null   float64\n",
            " 30  PctOtherRace             3051 non-null   float64\n",
            " 31  PctMarriedHouseholds     3051 non-null   float64\n",
            " 32  BirthRate                3051 non-null   float64\n",
            " 33  TARGET_deathRate         3051 non-null   float64\n",
            "dtypes: float64(29), int64(3), object(2)\n",
            "memory usage: 810.5+ KB\n"
          ],
          "name": "stdout"
        }
      ]
    },
    {
      "cell_type": "code",
      "metadata": {
        "id": "twpmh-f4i7lp",
        "colab": {
          "base_uri": "https://localhost:8080/"
        },
        "outputId": "dd6e12ad-b714-4c8f-a996-c768e367911b"
      },
      "source": [
        "data.isna().sum()"
      ],
      "execution_count": 6,
      "outputs": [
        {
          "output_type": "execute_result",
          "data": {
            "text/plain": [
              "avgAnnCount                   0\n",
              "avgDeathsPerYear              0\n",
              "incidenceRate                 0\n",
              "medIncome                     0\n",
              "popEst2015                    0\n",
              "povertyPercent                0\n",
              "studyPerCap                   0\n",
              "binnedInc                     0\n",
              "MedianAge                     0\n",
              "MedianAgeMale                 0\n",
              "MedianAgeFemale               0\n",
              "Geography                     0\n",
              "AvgHouseholdSize              0\n",
              "PercentMarried                0\n",
              "PctNoHS18_24                  0\n",
              "PctHS18_24                    0\n",
              "PctSomeCol18_24            2266\n",
              "PctBachDeg18_24               0\n",
              "PctHS25_Over                  0\n",
              "PctBachDeg25_Over             0\n",
              "PctEmployed16_Over          152\n",
              "PctUnemployed16_Over          0\n",
              "PctPrivateCoverage            0\n",
              "PctPrivateCoverageAlone     604\n",
              "PctEmpPrivCoverage            0\n",
              "PctPublicCoverage             0\n",
              "PctPublicCoverageAlone        0\n",
              "PctWhite                      0\n",
              "PctBlack                      0\n",
              "PctAsian                      0\n",
              "PctOtherRace                  0\n",
              "PctMarriedHouseholds          0\n",
              "BirthRate                     0\n",
              "TARGET_deathRate              0\n",
              "dtype: int64"
            ]
          },
          "metadata": {
            "tags": []
          },
          "execution_count": 6
        }
      ]
    },
    {
      "cell_type": "code",
      "metadata": {
        "id": "UMwnKRsJjOgk",
        "colab": {
          "base_uri": "https://localhost:8080/"
        },
        "outputId": "3e39e215-8d43-4986-a0b4-21553336ff14"
      },
      "source": [
        "for col in data.columns:\n",
        "  print(data[col].value_counts())"
      ],
      "execution_count": 7,
      "outputs": [
        {
          "output_type": "stream",
          "text": [
            "1962.667684    200\n",
            "81.000000       23\n",
            "74.000000       21\n",
            "51.000000       20\n",
            "98.000000       19\n",
            "              ... \n",
            "2899.000000      1\n",
            "2938.000000      1\n",
            "419.000000       1\n",
            "592.000000       1\n",
            "3932.000000      1\n",
            "Name: avgAnnCount, Length: 779, dtype: int64\n",
            "13      42\n",
            "14      42\n",
            "16      38\n",
            "24      38\n",
            "19      37\n",
            "        ..\n",
            "1382     1\n",
            "1386     1\n",
            "1430     1\n",
            "1524     1\n",
            "3927     1\n",
            "Name: avgDeathsPerYear, Length: 513, dtype: int64\n",
            "453.549422    200\n",
            "475.700000     12\n",
            "424.400000     10\n",
            "430.400000      9\n",
            "444.500000      8\n",
            "             ... \n",
            "353.800000      1\n",
            "532.700000      1\n",
            "343.300000      1\n",
            "379.000000      1\n",
            "379.100000      1\n",
            "Name: incidenceRate, Length: 1264, dtype: int64\n",
            "48368     5\n",
            "55472     4\n",
            "50774     4\n",
            "44113     4\n",
            "51510     4\n",
            "         ..\n",
            "48163     1\n",
            "41409     1\n",
            "100806    1\n",
            "49905     1\n",
            "49152     1\n",
            "Name: medIncome, Length: 2208, dtype: int64\n",
            "18340    4\n",
            "12841    4\n",
            "33743    3\n",
            "4854     3\n",
            "3956     3\n",
            "        ..\n",
            "7088     1\n",
            "47520    1\n",
            "8615     1\n",
            "4523     1\n",
            "28672    1\n",
            "Name: popEst2015, Length: 2253, dtype: int64\n",
            "10.7    35\n",
            "17.5    33\n",
            "13.9    31\n",
            "14.7    31\n",
            "13.8    31\n",
            "        ..\n",
            "34.2     1\n",
            "33.4     1\n",
            "30.8     1\n",
            "35.4     1\n",
            "40.5     1\n",
            "Name: povertyPercent, Length: 313, dtype: int64\n",
            "0.000000       1936\n",
            "23.310567         2\n",
            "108.143797        2\n",
            "100.400690        2\n",
            "50.862113         2\n",
            "               ... \n",
            "51.894136         1\n",
            "260.431738        1\n",
            "23.111234         1\n",
            "421.910534        1\n",
            "1358.162063       1\n",
            "Name: studyPerCap, Length: 837, dtype: int64\n",
            "(37413.8, 40362.7]    318\n",
            "(51046.4, 54545.6]    318\n",
            "(54545.6, 61494.5]    315\n",
            "(34218.1, 37413.8]    309\n",
            "(40362.7, 42724.4]    306\n",
            "(42724.4, 45201]      306\n",
            "[22640, 34218.1]      301\n",
            "(45201, 48021.6]      299\n",
            "(48021.6, 51046.4]    297\n",
            "(61494.5, 125635]     282\n",
            "Name: binnedInc, dtype: int64\n",
            "41.0     46\n",
            "38.8     40\n",
            "43.0     39\n",
            "40.1     39\n",
            "42.2     38\n",
            "         ..\n",
            "30.6      1\n",
            "26.1      1\n",
            "32.6      1\n",
            "406.8     1\n",
            "27.5      1\n",
            "Name: MedianAge, Length: 295, dtype: int64\n",
            "40.3    36\n",
            "38.5    36\n",
            "36.1    34\n",
            "39.2    34\n",
            "40.1    34\n",
            "        ..\n",
            "24.5     1\n",
            "51.8     1\n",
            "28.6     1\n",
            "53.3     1\n",
            "52.3     1\n",
            "Name: MedianAgeMale, Length: 284, dtype: int64\n",
            "41.1    41\n",
            "44.0    39\n",
            "42.2    39\n",
            "42.9    37\n",
            "44.5    35\n",
            "        ..\n",
            "28.8     1\n",
            "30.6     1\n",
            "55.3     1\n",
            "26.7     1\n",
            "52.3     1\n",
            "Name: MedianAgeFemale, Length: 279, dtype: int64\n",
            "Tillamook County, Oregon              2\n",
            "San Luis Obispo County, California    2\n",
            "Franklin city, Virginia               2\n",
            "Newton County, Indiana                2\n",
            "Crook County, Oregon                  2\n",
            "                                     ..\n",
            "Van Zandt County, Texas               1\n",
            "Ray County, Missouri                  1\n",
            "Thomas County, Georgia                1\n",
            "Payne County, Oklahoma                1\n",
            "Jackson County, Missouri              1\n",
            "Name: Geography, Length: 2285, dtype: int64\n",
            "2.4800    81\n",
            "2.4300    71\n",
            "2.5200    70\n",
            "2.5500    68\n",
            "2.4400    66\n",
            "          ..\n",
            "0.0247     1\n",
            "0.0280     1\n",
            "3.3800     1\n",
            "1.8900     1\n",
            "0.0263     1\n",
            "Name: AvgHouseholdSize, Length: 184, dtype: int64\n",
            "52.7    35\n",
            "52.2    32\n",
            "55.5    28\n",
            "53.9    28\n",
            "48.2    28\n",
            "        ..\n",
            "39.7     1\n",
            "64.6     1\n",
            "63.8     1\n",
            "28.1     1\n",
            "36.4     1\n",
            "Name: PercentMarried, Length: 345, dtype: int64\n",
            "17.7    29\n",
            "15.7    27\n",
            "14.7    27\n",
            "14.4    27\n",
            "18.7    26\n",
            "        ..\n",
            "36.1     1\n",
            "62.7     1\n",
            "38.7     1\n",
            "39.8     1\n",
            "30.8     1\n",
            "Name: PctNoHS18_24, Length: 384, dtype: int64\n",
            "33.2    26\n",
            "41.3    25\n",
            "33.7    24\n",
            "31.8    24\n",
            "28.8    22\n",
            "        ..\n",
            "19.7     1\n",
            "10.1     1\n",
            "61.3     1\n",
            "64.3     1\n",
            "54.9     1\n",
            "Name: PctHS18_24, Length: 440, dtype: int64\n",
            "43.0    12\n",
            "42.3    11\n",
            "42.1    10\n",
            "36.1     9\n",
            "45.6     9\n",
            "        ..\n",
            "52.9     1\n",
            "46.7     1\n",
            "49.9     1\n",
            "20.6     1\n",
            "45.2     1\n",
            "Name: PctSomeCol18_24, Length: 301, dtype: int64\n",
            "0.0     123\n",
            "4.7      51\n",
            "2.8      47\n",
            "4.8      46\n",
            "5.3      44\n",
            "       ... \n",
            "19.7      1\n",
            "21.4      1\n",
            "15.4      1\n",
            "29.8      1\n",
            "22.8      1\n",
            "Name: PctBachDeg18_24, Length: 212, dtype: int64\n",
            "37.6    30\n",
            "35.6    28\n",
            "35.5    28\n",
            "40.5    26\n",
            "33.1    26\n",
            "        ..\n",
            "49.6     1\n",
            "23.7     1\n",
            "14.9     1\n",
            "13.8     1\n",
            "47.0     1\n",
            "Name: PctHS25_Over, Length: 352, dtype: int64\n",
            "9.0     41\n",
            "9.2     37\n",
            "9.8     35\n",
            "10.3    35\n",
            "10.0    35\n",
            "        ..\n",
            "27.4     1\n",
            "22.0     1\n",
            "32.0     1\n",
            "27.5     1\n",
            "34.5     1\n",
            "Name: PctBachDeg25_Over, Length: 267, dtype: int64\n",
            "51.9    28\n",
            "48.9    24\n",
            "54.6    22\n",
            "47.6    22\n",
            "52.4    21\n",
            "        ..\n",
            "73.6     1\n",
            "29.6     1\n",
            "38.6     1\n",
            "29.7     1\n",
            "39.0     1\n",
            "Name: PctEmployed16_Over, Length: 385, dtype: int64\n",
            "6.9     50\n",
            "8.3     49\n",
            "7.0     49\n",
            "6.8     48\n",
            "7.5     48\n",
            "        ..\n",
            "15.0     1\n",
            "15.3     1\n",
            "25.3     1\n",
            "0.5      1\n",
            "15.8     1\n",
            "Name: PctUnemployed16_Over, Length: 183, dtype: int64\n",
            "65.3    24\n",
            "68.1    22\n",
            "69.1    22\n",
            "69.5    21\n",
            "69.8    20\n",
            "        ..\n",
            "53.0     1\n",
            "45.0     1\n",
            "86.0     1\n",
            "39.6     1\n",
            "34.4     1\n",
            "Name: PctPrivateCoverage, Length: 467, dtype: int64\n",
            "53.0    19\n",
            "50.6    16\n",
            "49.5    15\n",
            "50.9    15\n",
            "52.8    15\n",
            "        ..\n",
            "70.2     1\n",
            "77.1     1\n",
            "78.2     1\n",
            "30.9     1\n",
            "24.2     1\n",
            "Name: PctPrivateCoverageAlone, Length: 434, dtype: int64\n",
            "40.0    25\n",
            "46.5    24\n",
            "32.6    23\n",
            "44.4    21\n",
            "36.3    21\n",
            "        ..\n",
            "19.5     1\n",
            "15.0     1\n",
            "19.0     1\n",
            "26.5     1\n",
            "19.2     1\n",
            "Name: PctEmpPrivCoverage, Length: 425, dtype: int64\n",
            "35.3    29\n",
            "34.3    26\n",
            "31.9    25\n",
            "35.9    24\n",
            "39.2    24\n",
            "        ..\n",
            "52.4     1\n",
            "21.9     1\n",
            "57.2     1\n",
            "24.0     1\n",
            "23.6     1\n",
            "Name: PctPublicCoverage, Length: 375, dtype: int64\n",
            "18.7    35\n",
            "16.8    31\n",
            "17.9    29\n",
            "20.2    29\n",
            "21.6    29\n",
            "        ..\n",
            "5.5      1\n",
            "30.0     1\n",
            "8.5      1\n",
            "5.0      1\n",
            "4.6      1\n",
            "Name: PctPublicCoverageAlone, Length: 300, dtype: int64\n",
            "97.212544    3\n",
            "88.275552    2\n",
            "53.796546    2\n",
            "92.483218    2\n",
            "71.194743    2\n",
            "            ..\n",
            "52.903017    1\n",
            "52.744419    1\n",
            "95.078805    1\n",
            "89.487555    1\n",
            "81.738938    1\n",
            "Name: PctWhite, Length: 2284, dtype: int64\n",
            "0.000000     65\n",
            "0.363636      3\n",
            "1.973429      2\n",
            "19.299945     2\n",
            "1.023400      2\n",
            "             ..\n",
            "0.594553      1\n",
            "0.813670      1\n",
            "3.698692      1\n",
            "6.242912      1\n",
            "1.181568      1\n",
            "Name: PctBlack, Length: 2230, dtype: int64\n",
            "0.000000    188\n",
            "0.326797      4\n",
            "3.336719      2\n",
            "0.328629      2\n",
            "2.037537      2\n",
            "           ... \n",
            "0.457457      1\n",
            "3.047973      1\n",
            "0.141452      1\n",
            "1.186633      1\n",
            "3.529772      1\n",
            "Name: PctAsian, Length: 2142, dtype: int64\n",
            "0.000000    133\n",
            "0.167729      2\n",
            "2.385502      2\n",
            "0.015321      2\n",
            "1.843479      2\n",
            "           ... \n",
            "2.040211      1\n",
            "0.753864      1\n",
            "2.710994      1\n",
            "0.855554      1\n",
            "0.355889      1\n",
            "Name: PctOtherRace, Length: 2183, dtype: int64\n",
            "51.983664    2\n",
            "53.639393    2\n",
            "39.246709    2\n",
            "46.030190    2\n",
            "52.069460    2\n",
            "            ..\n",
            "35.620915    1\n",
            "55.617663    1\n",
            "44.492164    1\n",
            "56.062581    1\n",
            "53.626142    1\n",
            "Name: PctMarriedHouseholds, Length: 2284, dtype: int64\n",
            "5.000000    4\n",
            "1.470588    3\n",
            "4.545455    3\n",
            "6.012885    3\n",
            "7.142857    3\n",
            "           ..\n",
            "5.693717    1\n",
            "6.469649    1\n",
            "5.517241    1\n",
            "2.224694    1\n",
            "5.015576    1\n",
            "Name: BirthRate, Length: 2275, dtype: int64\n",
            "173.6    12\n",
            "184.3    12\n",
            "165.3    11\n",
            "179.9    11\n",
            "174.7    11\n",
            "         ..\n",
            "197.2     1\n",
            "135.8     1\n",
            "235.2     1\n",
            "254.3     1\n",
            "230.6     1\n",
            "Name: TARGET_deathRate, Length: 939, dtype: int64\n"
          ],
          "name": "stdout"
        }
      ]
    },
    {
      "cell_type": "code",
      "metadata": {
        "id": "u40-AP0NkdH_"
      },
      "source": [
        "data.drop(columns=['PctSomeCol18_24','binnedInc','Geography'],inplace=True)"
      ],
      "execution_count": 8,
      "outputs": []
    },
    {
      "cell_type": "code",
      "metadata": {
        "id": "zfheYH0ok1eN"
      },
      "source": [
        "data.fillna(0,inplace=True)"
      ],
      "execution_count": 9,
      "outputs": []
    },
    {
      "cell_type": "markdown",
      "metadata": {
        "id": "j7Q6E1gUjsU7"
      },
      "source": [
        "# Seperate target and input"
      ]
    },
    {
      "cell_type": "code",
      "metadata": {
        "id": "7hSAcaeAjm5p",
        "colab": {
          "base_uri": "https://localhost:8080/"
        },
        "outputId": "382bfc34-218d-4dbe-a2bc-ab9f3fd0dc80"
      },
      "source": [
        "x = data.iloc[:,:-1].values\n",
        "y = data.iloc[:,-1].values\n",
        "print(x.shape)\n",
        "print(y.shape)"
      ],
      "execution_count": 10,
      "outputs": [
        {
          "output_type": "stream",
          "text": [
            "(3051, 30)\n",
            "(3051,)\n"
          ],
          "name": "stdout"
        }
      ]
    },
    {
      "cell_type": "markdown",
      "metadata": {
        "id": "2zokFaV4kWhj"
      },
      "source": [
        "# Data Preparation"
      ]
    },
    {
      "cell_type": "code",
      "metadata": {
        "id": "yRynZviQmJhE"
      },
      "source": [
        "xtrain,xtest,ytrain,ytest = train_test_split(x,y,test_size=0.2,random_state=0)"
      ],
      "execution_count": 11,
      "outputs": []
    },
    {
      "cell_type": "code",
      "metadata": {
        "id": "QG7AKbePkPzW",
        "colab": {
          "base_uri": "https://localhost:8080/"
        },
        "outputId": "fd746e24-dba3-4c93-e2b6-b3ca4646c4c6"
      },
      "source": [
        "sc = StandardScaler(copy=False)\n",
        "sc.fit_transform(xtrain)\n",
        "sc.transform(xtest)"
      ],
      "execution_count": 12,
      "outputs": [
        {
          "output_type": "execute_result",
          "data": {
            "text/plain": [
              "array([[ 0.4144122 ,  0.51799021,  0.53539764, ..., -0.04464041,\n",
              "        -0.70363583, -0.64679364],\n",
              "       [-0.34638866, -0.22681967,  0.59431704, ..., -0.34977265,\n",
              "        -0.67734491,  1.17174938],\n",
              "       [ 0.54948487,  0.64058314,  0.92122465, ..., -0.51903969,\n",
              "        -0.01525694, -0.28244118],\n",
              "       ...,\n",
              "       [-0.28454816, -0.16899282, -0.16593323, ...,  0.3863052 ,\n",
              "        -0.51456857,  0.97676312],\n",
              "       [-0.21538444, -0.081096  , -0.11271571, ...,  0.18672174,\n",
              "         0.40266748,  1.68826023],\n",
              "       [-0.31221364, -0.15048823, -1.39563804, ..., -0.27636285,\n",
              "         0.05442419,  0.26053679]])"
            ]
          },
          "metadata": {
            "tags": []
          },
          "execution_count": 12
        }
      ]
    },
    {
      "cell_type": "markdown",
      "metadata": {
        "id": "1UkCmIcKnPd0"
      },
      "source": [
        "# Baseline Model"
      ]
    },
    {
      "cell_type": "code",
      "metadata": {
        "id": "PNbPaJeKmjs-"
      },
      "source": [
        "untuned_model = GradientBoostingRegressor()"
      ],
      "execution_count": 13,
      "outputs": []
    },
    {
      "cell_type": "code",
      "metadata": {
        "id": "w-0AhwzGmr5e"
      },
      "source": [
        "untuned_model.fit(xtrain,ytrain)\n",
        "untuned_pred = untuned_model.predict(xtest)"
      ],
      "execution_count": 14,
      "outputs": []
    },
    {
      "cell_type": "code",
      "metadata": {
        "id": "O1D3SUzMnnEr",
        "colab": {
          "base_uri": "https://localhost:8080/"
        },
        "outputId": "75867e3c-bc28-4124-d155-b9a5f1074658"
      },
      "source": [
        "mean_absolute_error(ytest,untuned_pred)"
      ],
      "execution_count": 15,
      "outputs": [
        {
          "output_type": "execute_result",
          "data": {
            "text/plain": [
              "11.280668995762138"
            ]
          },
          "metadata": {
            "tags": []
          },
          "execution_count": 15
        }
      ]
    },
    {
      "cell_type": "markdown",
      "metadata": {
        "id": "-HV5zjDun8bL"
      },
      "source": [
        "# Hyper Parameter Tuning"
      ]
    },
    {
      "cell_type": "code",
      "metadata": {
        "colab": {
          "base_uri": "https://localhost:8080/"
        },
        "id": "ejFMIMFOn4Lj",
        "outputId": "2323fd98-a9da-4e8b-f7d0-be6f34806916"
      },
      "source": [
        "gbr = GradientBoostingRegressor()\n",
        "parameters = {\n",
        "'n_estimators': [5, 50, 100, 150, 250],\n",
        "'max_depth': [2, 3, 4, 8, 16, 32, None],\n",
        "'learning_rate': [0.03, 0.1, 0.3, 1]\n",
        "}\n",
        "rs = RandomizedSearchCV(gbr, parameters, cv=5,n_iter=20)\n",
        "rs.fit(xtrain,ytrain)"
      ],
      "execution_count": 16,
      "outputs": [
        {
          "output_type": "execute_result",
          "data": {
            "text/plain": [
              "RandomizedSearchCV(cv=5, error_score=nan,\n",
              "                   estimator=GradientBoostingRegressor(alpha=0.9, ccp_alpha=0.0,\n",
              "                                                       criterion='friedman_mse',\n",
              "                                                       init=None,\n",
              "                                                       learning_rate=0.1,\n",
              "                                                       loss='ls', max_depth=3,\n",
              "                                                       max_features=None,\n",
              "                                                       max_leaf_nodes=None,\n",
              "                                                       min_impurity_decrease=0.0,\n",
              "                                                       min_impurity_split=None,\n",
              "                                                       min_samples_leaf=1,\n",
              "                                                       min_samples_split=2,\n",
              "                                                       min_weight_fraction_leaf=0.0,\n",
              "                                                       n_estimators=100,\n",
              "                                                       n_...\n",
              "                                                       random_state=None,\n",
              "                                                       subsample=1.0,\n",
              "                                                       tol=0.0001,\n",
              "                                                       validation_fraction=0.1,\n",
              "                                                       verbose=0,\n",
              "                                                       warm_start=False),\n",
              "                   iid='deprecated', n_iter=20, n_jobs=None,\n",
              "                   param_distributions={'learning_rate': [0.03, 0.1, 0.3, 1],\n",
              "                                        'max_depth': [2, 3, 4, 8, 16, 32, None],\n",
              "                                        'n_estimators': [5, 50, 100, 150, 250]},\n",
              "                   pre_dispatch='2*n_jobs', random_state=None, refit=True,\n",
              "                   return_train_score=False, scoring=None, verbose=0)"
            ]
          },
          "metadata": {
            "tags": []
          },
          "execution_count": 16
        }
      ]
    },
    {
      "cell_type": "code",
      "metadata": {
        "colab": {
          "base_uri": "https://localhost:8080/"
        },
        "id": "TIJxIYMppiAS",
        "outputId": "de3bd58c-29c8-41ff-e60a-c611eeb567f2"
      },
      "source": [
        "rs.best_params_"
      ],
      "execution_count": 17,
      "outputs": [
        {
          "output_type": "execute_result",
          "data": {
            "text/plain": [
              "{'learning_rate': 0.3, 'max_depth': 4, 'n_estimators': 100}"
            ]
          },
          "metadata": {
            "tags": []
          },
          "execution_count": 17
        }
      ]
    },
    {
      "cell_type": "code",
      "metadata": {
        "id": "6sw0JaWZq85E"
      },
      "source": [
        "tuned_model = GradientBoostingRegressor(learning_rate=0.3,max_depth=4,n_estimators=250)\n",
        "tuned_model.fit(xtrain,ytrain)\n",
        "tuned_pred = tuned_model.predict(xtest)"
      ],
      "execution_count": 18,
      "outputs": []
    },
    {
      "cell_type": "code",
      "metadata": {
        "colab": {
          "base_uri": "https://localhost:8080/"
        },
        "id": "sgln7Y9OvYW4",
        "outputId": "e43b8377-7846-4a62-ab05-094df5b28cf0"
      },
      "source": [
        "mean_absolute_error(ytest,tuned_pred)"
      ],
      "execution_count": 19,
      "outputs": [
        {
          "output_type": "execute_result",
          "data": {
            "text/plain": [
              "7.189035757540263"
            ]
          },
          "metadata": {
            "tags": []
          },
          "execution_count": 19
        }
      ]
    },
    {
      "cell_type": "markdown",
      "metadata": {
        "id": "wfWvOrGXvwiP"
      },
      "source": [
        "# Feature Selection"
      ]
    },
    {
      "cell_type": "code",
      "metadata": {
        "id": "Iw_mj987vevK"
      },
      "source": [
        "gbr2 = GradientBoostingRegressor(learning_rate=0.3,max_depth=4,n_estimators=250)"
      ],
      "execution_count": 20,
      "outputs": []
    },
    {
      "cell_type": "code",
      "metadata": {
        "id": "7zstue8Ev2SF"
      },
      "source": [
        "from sklearn.feature_selection import RFE\n",
        "model = RFE(gbr2,n_features_to_select=12, step=1)\n",
        "model = model.fit(x,y)"
      ],
      "execution_count": 21,
      "outputs": []
    },
    {
      "cell_type": "code",
      "metadata": {
        "id": "4pLfzVP2wY1X"
      },
      "source": [
        "feature_engineered_pred = model.predict(xtest)"
      ],
      "execution_count": 22,
      "outputs": []
    },
    {
      "cell_type": "code",
      "metadata": {
        "id": "inXeDJBLxEVm",
        "colab": {
          "base_uri": "https://localhost:8080/"
        },
        "outputId": "5e015541-f398-4150-a5cf-605dd3dd72fd"
      },
      "source": [
        "mean_absolute_error(ytest,feature_engineered_pred)"
      ],
      "execution_count": 23,
      "outputs": [
        {
          "output_type": "execute_result",
          "data": {
            "text/plain": [
              "31.403439675434864"
            ]
          },
          "metadata": {
            "tags": []
          },
          "execution_count": 23
        }
      ]
    },
    {
      "cell_type": "markdown",
      "metadata": {
        "id": "pvx4zkt5xMx7"
      },
      "source": [
        "### Feature engineered model dosent perform better than previous model"
      ]
    },
    {
      "cell_type": "code",
      "metadata": {
        "id": "lGbwVakHxI4C"
      },
      "source": [
        "test_data = pd.read_csv('https://raw.githubusercontent.com/dphi-official/Datasets/master/cancer_death_rate/Testing_set_label.csv')"
      ],
      "execution_count": 24,
      "outputs": []
    },
    {
      "cell_type": "code",
      "metadata": {
        "id": "37BZhNioxksk",
        "colab": {
          "base_uri": "https://localhost:8080/"
        },
        "outputId": "84e61c7d-0c01-4500-9d23-f3c75baff7c1"
      },
      "source": [
        "test_data.drop(columns=['PctSomeCol18_24','binnedInc','Geography'],inplace=True)\n",
        "test_data.fillna(0,inplace=True)\n",
        "test_data = test_data.values\n",
        "sc.transform(test_data)"
      ],
      "execution_count": 25,
      "outputs": [
        {
          "output_type": "execute_result",
          "data": {
            "text/plain": [
              "array([[ 1.23786725e+00,  1.36226228e+00, -2.05705577e+00, ...,\n",
              "         1.23002761e+00,  7.67426166e-01,  6.08387516e-01],\n",
              "       [-3.87886885e-01, -3.07777270e-01, -7.66038234e-02, ...,\n",
              "        -5.63735139e-01,  6.07209556e-01, -1.66645835e+00],\n",
              "       [-3.61848780e-01, -3.03151121e-01, -4.47225828e-01, ...,\n",
              "        -1.28675047e-04,  1.97760069e-01,  2.45348735e+00],\n",
              "       ...,\n",
              "       [-3.13027335e-01, -1.87497413e-01, -8.17847833e-01, ...,\n",
              "        -5.28994894e-01, -4.92031430e-01, -8.03306272e-01],\n",
              "       [-1.70631452e-01, -8.10960012e-02,  1.17590849e+00, ...,\n",
              "        -2.32116757e-01, -8.63316565e-01, -2.82051113e-01],\n",
              "       [-4.52168454e-01, -3.86421791e-01, -1.68073188e+00, ...,\n",
              "         1.24513059e+01,  1.95028611e+00, -1.82613101e-01]])"
            ]
          },
          "metadata": {
            "tags": []
          },
          "execution_count": 25
        }
      ]
    },
    {
      "cell_type": "code",
      "metadata": {
        "id": "GEn4HMyBxV4k"
      },
      "source": [
        "pred = tuned_model.predict(test_data)"
      ],
      "execution_count": 26,
      "outputs": []
    },
    {
      "cell_type": "code",
      "metadata": {
        "id": "dWD4d68xxc4y"
      },
      "source": [
        "pred = pd.DataFrame(pred,columns=['prediction'])"
      ],
      "execution_count": 27,
      "outputs": []
    }
  ]
}