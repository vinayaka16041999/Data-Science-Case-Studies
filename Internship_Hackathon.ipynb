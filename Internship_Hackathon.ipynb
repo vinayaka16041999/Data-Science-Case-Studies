{
  "nbformat": 4,
  "nbformat_minor": 0,
  "metadata": {
    "colab": {
      "name": "Internship Hackathon.ipynb",
      "provenance": [],
      "authorship_tag": "ABX9TyPzFsUbThBUggv2a0Mh6FmU",
      "include_colab_link": true
    },
    "kernelspec": {
      "name": "python3",
      "display_name": "Python 3"
    },
    "language_info": {
      "name": "python"
    }
  },
  "cells": [
    {
      "cell_type": "markdown",
      "metadata": {
        "id": "view-in-github",
        "colab_type": "text"
      },
      "source": [
        "<a href=\"https://colab.research.google.com/github/vinayaka16041999/Data-Science-ML-Projects/blob/master/Internship_Hackathon.ipynb\" target=\"_parent\"><img src=\"https://colab.research.google.com/assets/colab-badge.svg\" alt=\"Open In Colab\"/></a>"
      ]
    },
    {
      "cell_type": "markdown",
      "metadata": {
        "id": "6jLpYlgyQZUx"
      },
      "source": [
        "# Importing Necessary Libraries"
      ]
    },
    {
      "cell_type": "code",
      "metadata": {
        "id": "VpzoQlNK1XBE"
      },
      "source": [
        "import pandas as pd\n",
        "import numpy as np\n",
        "import matplotlib.pyplot as plt\n",
        "import seaborn as sb\n",
        "from sklearn.preprocessing import StandardScaler\n",
        "from sklearn.metrics import accuracy_score,confusion_matrix\n",
        "from sklearn.model_selection import train_test_split,GridSearchCV\n",
        "from sklearn.linear_model import LogisticRegression\n",
        "from sklearn.svm import SVC\n",
        "from sklearn.tree import DecisionTreeClassifier\n",
        "from sklearn.neighbors import KNeighborsClassifier\n",
        "from scipy.stats import zscore\n",
        "from sklearn.model_selection import RepeatedStratifiedKFold"
      ],
      "execution_count": 40,
      "outputs": []
    },
    {
      "cell_type": "markdown",
      "metadata": {
        "id": "i9NTKK-1Qer5"
      },
      "source": [
        "# Importing the data"
      ]
    },
    {
      "cell_type": "code",
      "metadata": {
        "id": "6dlns_p53DBC"
      },
      "source": [
        "df = pd.read_csv(r'/content/data.csv')"
      ],
      "execution_count": 3,
      "outputs": []
    },
    {
      "cell_type": "code",
      "metadata": {
        "colab": {
          "base_uri": "https://localhost:8080/",
          "height": 195
        },
        "id": "UB1RY_Ci3aD0",
        "outputId": "5459ec6c-30c6-4a65-c982-5dd3f7647e8f"
      },
      "source": [
        "df.head()"
      ],
      "execution_count": 4,
      "outputs": [
        {
          "output_type": "execute_result",
          "data": {
            "text/html": [
              "<div>\n",
              "<style scoped>\n",
              "    .dataframe tbody tr th:only-of-type {\n",
              "        vertical-align: middle;\n",
              "    }\n",
              "\n",
              "    .dataframe tbody tr th {\n",
              "        vertical-align: top;\n",
              "    }\n",
              "\n",
              "    .dataframe thead th {\n",
              "        text-align: right;\n",
              "    }\n",
              "</style>\n",
              "<table border=\"1\" class=\"dataframe\">\n",
              "  <thead>\n",
              "    <tr style=\"text-align: right;\">\n",
              "      <th></th>\n",
              "      <th>x1</th>\n",
              "      <th>x2</th>\n",
              "      <th>y</th>\n",
              "    </tr>\n",
              "  </thead>\n",
              "  <tbody>\n",
              "    <tr>\n",
              "      <th>0</th>\n",
              "      <td>-119.366669</td>\n",
              "      <td>115.000000</td>\n",
              "      <td>1</td>\n",
              "    </tr>\n",
              "    <tr>\n",
              "      <th>1</th>\n",
              "      <td>-101.108044</td>\n",
              "      <td>97.777159</td>\n",
              "      <td>1</td>\n",
              "    </tr>\n",
              "    <tr>\n",
              "      <th>2</th>\n",
              "      <td>-130.278658</td>\n",
              "      <td>106.767654</td>\n",
              "      <td>1</td>\n",
              "    </tr>\n",
              "    <tr>\n",
              "      <th>3</th>\n",
              "      <td>-114.703415</td>\n",
              "      <td>101.195477</td>\n",
              "      <td>1</td>\n",
              "    </tr>\n",
              "    <tr>\n",
              "      <th>4</th>\n",
              "      <td>-119.366669</td>\n",
              "      <td>115.000000</td>\n",
              "      <td>1</td>\n",
              "    </tr>\n",
              "  </tbody>\n",
              "</table>\n",
              "</div>"
            ],
            "text/plain": [
              "           x1          x2  y\n",
              "0 -119.366669  115.000000  1\n",
              "1 -101.108044   97.777159  1\n",
              "2 -130.278658  106.767654  1\n",
              "3 -114.703415  101.195477  1\n",
              "4 -119.366669  115.000000  1"
            ]
          },
          "metadata": {
            "tags": []
          },
          "execution_count": 4
        }
      ]
    },
    {
      "cell_type": "code",
      "metadata": {
        "colab": {
          "base_uri": "https://localhost:8080/"
        },
        "id": "xiJAutWW3cFl",
        "outputId": "c4edaf3c-3a94-4427-fb41-069a36e13ad3"
      },
      "source": [
        "df.info()"
      ],
      "execution_count": 5,
      "outputs": [
        {
          "output_type": "stream",
          "text": [
            "<class 'pandas.core.frame.DataFrame'>\n",
            "RangeIndex: 2227 entries, 0 to 2226\n",
            "Data columns (total 3 columns):\n",
            " #   Column  Non-Null Count  Dtype  \n",
            "---  ------  --------------  -----  \n",
            " 0   x1      2222 non-null   float64\n",
            " 1   x2      2224 non-null   float64\n",
            " 2   y       2227 non-null   int64  \n",
            "dtypes: float64(2), int64(1)\n",
            "memory usage: 52.3 KB\n"
          ],
          "name": "stdout"
        }
      ]
    },
    {
      "cell_type": "markdown",
      "metadata": {
        "id": "a3_dYOmGQl90"
      },
      "source": [
        "# Filling the missing values(8 in total) using the Forward Fill method"
      ]
    },
    {
      "cell_type": "code",
      "metadata": {
        "id": "t54o6JiV3eoy"
      },
      "source": [
        "df['x1'] = df['x1'].fillna(method='ffill')\n",
        "df['x2'] = df['x2'].fillna(method='ffill')"
      ],
      "execution_count": 6,
      "outputs": []
    },
    {
      "cell_type": "code",
      "metadata": {
        "colab": {
          "base_uri": "https://localhost:8080/"
        },
        "id": "-OJwpJnR3wx3",
        "outputId": "7932d7ba-f04f-4517-b578-3a2bd500a46b"
      },
      "source": [
        "df.info()"
      ],
      "execution_count": 7,
      "outputs": [
        {
          "output_type": "stream",
          "text": [
            "<class 'pandas.core.frame.DataFrame'>\n",
            "RangeIndex: 2227 entries, 0 to 2226\n",
            "Data columns (total 3 columns):\n",
            " #   Column  Non-Null Count  Dtype  \n",
            "---  ------  --------------  -----  \n",
            " 0   x1      2227 non-null   float64\n",
            " 1   x2      2227 non-null   float64\n",
            " 2   y       2227 non-null   int64  \n",
            "dtypes: float64(2), int64(1)\n",
            "memory usage: 52.3 KB\n"
          ],
          "name": "stdout"
        }
      ]
    },
    {
      "cell_type": "markdown",
      "metadata": {
        "id": "E4pJyTZxQxsm"
      },
      "source": [
        "# Seperating Dependent and Independent dimensions into numpy array"
      ]
    },
    {
      "cell_type": "code",
      "metadata": {
        "id": "p9zWKzAP7RKD"
      },
      "source": [
        "x = df.iloc[:,:-1].values\n",
        "y = df.iloc[:,-1].values"
      ],
      "execution_count": 21,
      "outputs": []
    },
    {
      "cell_type": "markdown",
      "metadata": {
        "id": "ePXtKxyKQ60C"
      },
      "source": [
        "# Finding the outliers through visualizations"
      ]
    },
    {
      "cell_type": "code",
      "metadata": {
        "colab": {
          "base_uri": "https://localhost:8080/",
          "height": 307
        },
        "id": "c1TUwplM48XZ",
        "outputId": "a0c84827-1da3-492b-a493-8486d58b0172"
      },
      "source": [
        "sb.scatterplot(x='x1',y='x2',data=df)\n",
        "print(\"2 Outliers found\")"
      ],
      "execution_count": 12,
      "outputs": [
        {
          "output_type": "stream",
          "text": [
            "2 Outliers found\n"
          ],
          "name": "stdout"
        },
        {
          "output_type": "display_data",
          "data": {
            "image/png": "[encoded data removed]",
            "text/plain": [
              "<Figure size 432x288 with 1 Axes>"
            ]
          },
          "metadata": {
            "tags": [],
            "needs_background": "light"
          }
        }
      ]
    },
    {
      "cell_type": "code",
      "metadata": {
        "id": "fql0yZJR5gCx"
      },
      "source": [
        "zscore = zscore(df)"
      ],
      "execution_count": 13,
      "outputs": []
    },
    {
      "cell_type": "markdown",
      "metadata": {
        "id": "bHOldpekRBN1"
      },
      "source": [
        "# Removing the outliers through zscore method"
      ]
    },
    {
      "cell_type": "code",
      "metadata": {
        "id": "IG9PjxEf6BBY"
      },
      "source": [
        "abs_z_scores = np.abs(zscore)\n",
        "filtered_entries = (abs_z_scores < 3).all(axis=1)\n",
        "new_df = df[filtered_entries]"
      ],
      "execution_count": 15,
      "outputs": []
    },
    {
      "cell_type": "code",
      "metadata": {
        "colab": {
          "base_uri": "https://localhost:8080/",
          "height": 296
        },
        "id": "qtPNDe3k6MN8",
        "outputId": "bc7a8432-78c3-4e0b-9736-d8d9d10c8551"
      },
      "source": [
        "sb.scatterplot(x='x1',y='x2',data=new_df,hue='y')\n",
        "print(\"Outliers Removed\")"
      ],
      "execution_count": 18,
      "outputs": [
        {
          "output_type": "stream",
          "text": [
            "Outliers Removed\n"
          ],
          "name": "stdout"
        },
        {
          "output_type": "display_data",
          "data": {
            "image/png": "[encoded data removed]",
            "text/plain": [
              "<Figure size 432x288 with 1 Axes>"
            ]
          },
          "metadata": {
            "tags": [],
            "needs_background": "light"
          }
        }
      ]
    },
    {
      "cell_type": "code",
      "metadata": {
        "colab": {
          "base_uri": "https://localhost:8080/"
        },
        "id": "qJm-SynY6wfQ",
        "outputId": "065ab4ae-accb-401e-ea33-4a48c9e1c284"
      },
      "source": [
        "print(\"Before removing outliers\",df.shape)\n",
        "print(\"After removing the outliers\",new_df.shape)"
      ],
      "execution_count": 19,
      "outputs": [
        {
          "output_type": "stream",
          "text": [
            "(2227, 3)\n",
            "(2225, 3)\n"
          ],
          "name": "stdout"
        }
      ]
    },
    {
      "cell_type": "markdown",
      "metadata": {
        "id": "SxgV7ShvRW6U"
      },
      "source": [
        "# Splitting the data to avoid overfitting"
      ]
    },
    {
      "cell_type": "code",
      "metadata": {
        "id": "3Rk4QSf47G8x"
      },
      "source": [
        "xtrain,xtest,ytrain,ytest = train_test_split(x,y,test_size=0.2,random_state=0)"
      ],
      "execution_count": 22,
      "outputs": []
    },
    {
      "cell_type": "code",
      "metadata": {
        "colab": {
          "base_uri": "https://localhost:8080/"
        },
        "id": "bhEGXvXq7lvG",
        "outputId": "ad3ee66f-9aa7-4b70-c04b-f95c9884389b"
      },
      "source": [
        "print(\"xtrain\",xtrain.shape)\n",
        "print(\"xtest\",xtest.shape)\n",
        "print(\"ytrain\",ytrain.shape)\n",
        "print(\"ytest\",ytest.shape)"
      ],
      "execution_count": 23,
      "outputs": [
        {
          "output_type": "stream",
          "text": [
            "xtrain (1781, 2)\n",
            "xtest (446, 2)\n",
            "ytrain (1781,)\n",
            "ytest (446,)\n"
          ],
          "name": "stdout"
        }
      ]
    },
    {
      "cell_type": "markdown",
      "metadata": {
        "id": "NEe5Nd0M6oGH"
      },
      "source": [
        "# Normalization"
      ]
    },
    {
      "cell_type": "code",
      "metadata": {
        "id": "PVBPF-8b6Xp6"
      },
      "source": [
        "ss = StandardScaler(copy=False)"
      ],
      "execution_count": 24,
      "outputs": []
    },
    {
      "cell_type": "code",
      "metadata": {
        "colab": {
          "base_uri": "https://localhost:8080/"
        },
        "id": "y0Oit0C58MCi",
        "outputId": "a7392502-4dfa-4ec8-f04a-2e2e89376208"
      },
      "source": [
        "ss.fit_transform(xtrain)\n",
        "ss.transform(xtest)"
      ],
      "execution_count": 25,
      "outputs": [
        {
          "output_type": "execute_result",
          "data": {
            "text/plain": [
              "array([[-0.35446544, -0.0335466 ],\n",
              "       [ 1.06492683, -0.03351933],\n",
              "       [ 0.29117438, -0.03352793],\n",
              "       [-0.79793433, -0.03351825],\n",
              "       [-0.738943  , -0.03355576],\n",
              "       [-1.36001876, -0.03348963],\n",
              "       [ 1.52830007, -0.03348809],\n",
              "       [-0.51954754, -0.03353451],\n",
              "       [ 0.87812873, -0.03350412],\n",
              "       [-0.87833144, -0.03355908],\n",
              "       [-1.00488152, -0.03355875],\n",
              "       [ 1.21532084, -0.03351095],\n",
              "       [ 1.74263834, -0.03356061],\n",
              "       [ 1.3113574 , -0.03350884],\n",
              "       [ 0.96347042, -0.03356131],\n",
              "       [-0.60231874, -0.03351725],\n",
              "       [-1.26895155, -0.03355771],\n",
              "       [-1.25550322, -0.03349889],\n",
              "       [-0.26590704, -0.03354051],\n",
              "       [-0.6312729 , -0.03351067],\n",
              "       [ 0.15657091, -0.0335334 ],\n",
              "       [-0.64909655, -0.03351364],\n",
              "       [-1.1882616 , -0.03355771],\n",
              "       [ 0.63946224, -0.03352616],\n",
              "       [-0.34631019, -0.03354752],\n",
              "       [-0.50308312, -0.03354614],\n",
              "       [ 0.23052612, -0.03354653],\n",
              "       [ 1.02564769, -0.03349772],\n",
              "       [-0.17963722, -0.0335313 ],\n",
              "       [ 1.63164992, -0.03349354],\n",
              "       [ 0.68105559, -0.03355501],\n",
              "       [ 1.68093802, -0.03350579],\n",
              "       [-1.73685348, -0.03348913],\n",
              "       [-1.31829515, -0.03350091],\n",
              "       [ 1.44159655, -0.03355491],\n",
              "       [-1.20062235, -0.03355415],\n",
              "       [-1.15153067, -0.03351194],\n",
              "       [ 0.74598856, -0.03353872],\n",
              "       [-0.66377692, -0.0335196 ],\n",
              "       [-0.95964007, -0.0335121 ],\n",
              "       [ 0.96347042, -0.0335466 ],\n",
              "       [-1.28434642, -0.03356657],\n",
              "       [-1.22029678, -0.03356132],\n",
              "       [-1.36684531, -0.03350319],\n",
              "       [-1.12101997, -0.0335076 ],\n",
              "       [-0.43515539, -0.0335154 ],\n",
              "       [-1.01343337, -0.03355321],\n",
              "       [-0.56789839, -0.03351541],\n",
              "       [ 0.83253522, -0.03350509],\n",
              "       [ 1.22795572, -0.03349208],\n",
              "       [ 0.1152476 , -0.03352024],\n",
              "       [-1.03552177, -0.03349863],\n",
              "       [ 0.48337673, -0.0335232 ],\n",
              "       [-1.16985752, -0.03350637],\n",
              "       [ 1.01912894, -0.03355108],\n",
              "       [-1.02827841, -0.03351647],\n",
              "       [ 0.02551458, -0.0335403 ],\n",
              "       [ 0.9883302 , -0.03356246],\n",
              "       [ 1.00984635, -0.03355646],\n",
              "       [ 0.18332611, -0.03353984],\n",
              "       [-0.39481042, -0.0335418 ],\n",
              "       [ 1.0046861 , -0.03354362],\n",
              "       [-0.77224657, -0.03354403],\n",
              "       [ 0.74289361, -0.03356299],\n",
              "       [-0.67722525, -0.0335166 ],\n",
              "       [-0.78166214, -0.03351603],\n",
              "       [-1.080675  , -0.03355651],\n",
              "       [ 0.01576138, -0.03354704],\n",
              "       [-0.63135986, -0.03353147],\n",
              "       [-1.57826303, -0.0335028 ],\n",
              "       [ 1.46823591, -0.0335609 ],\n",
              "       [-0.66030489, -0.03351581],\n",
              "       [-0.78445421, -0.03355329],\n",
              "       [-0.85205347, -0.03355171],\n",
              "       [ 0.35238608, -0.03353769],\n",
              "       [ 0.75943769, -0.03351397],\n",
              "       [ 0.84243549, -0.0335436 ],\n",
              "       [-1.1208135 , -0.03355977],\n",
              "       [-1.18262009, -0.0335675 ],\n",
              "       [-0.04515396, -0.0335274 ],\n",
              "       [ 0.12722939, -0.03351026],\n",
              "       [-0.8655018 , -0.033504  ],\n",
              "       [-1.65612173, -0.03356096],\n",
              "       [-1.16136495, -0.0335064 ],\n",
              "       [ 0.75754087, -0.03351886],\n",
              "       [-1.080675  , -0.0335166 ],\n",
              "       [ 0.58725707, -0.03352054],\n",
              "       [-1.11744644, -0.03350403],\n",
              "       [-1.5775841 , -0.03355571],\n",
              "       [ 0.53263169, -0.03355802],\n",
              "       [ 0.34290311, -0.03352233],\n",
              "       [ 0.91949385, -0.0335669 ],\n",
              "       [ 0.42207378, -0.03352909],\n",
              "       [-1.4034348 , -0.03349859],\n",
              "       [-0.7239646 , -0.03354352],\n",
              "       [-0.021253  , -0.03354514],\n",
              "       [ 0.58853465, -0.0335168 ],\n",
              "       [-1.234843  , -0.03351152],\n",
              "       [-0.40653743, -0.03354436],\n",
              "       [-1.25059052, -0.03349115],\n",
              "       [-0.84315728, -0.03355416],\n",
              "       [-0.43220937, -0.03355028],\n",
              "       [-0.27893423, -0.03354867],\n",
              "       [ 1.63949629, -0.03356483],\n",
              "       [-1.46320681, -0.03349848],\n",
              "       [-1.16136495, -0.03355591],\n",
              "       [-0.95364605, -0.0335022 ],\n",
              "       [ 1.72778656, -0.03349333],\n",
              "       [ 0.57579934, -0.03352054],\n",
              "       [ 0.76174554, -0.0335481 ],\n",
              "       [ 0.80205041, -0.03351878],\n",
              "       [-1.38124327, -0.03356367],\n",
              "       [-0.73101855, -0.03351   ],\n",
              "       [-1.61010763, -0.03348699],\n",
              "       [ 0.32444753, -0.03352096],\n",
              "       [ 0.27760584, -0.0335163 ],\n",
              "       [-1.6463628 , -0.03349379],\n",
              "       [-0.58084152, -0.0335234 ],\n",
              "       [ 1.5840127 , -0.03356325],\n",
              "       [ 0.65415894, -0.0335157 ],\n",
              "       [ 0.73484889, -0.0335475 ],\n",
              "       [ 1.48855071, -0.03349934],\n",
              "       [ 0.32762451, -0.03351964],\n",
              "       [ 0.64797409, -0.03352095],\n",
              "       [-1.3496415 , -0.03356011],\n",
              "       [-0.44112826, -0.03353155],\n",
              "       [ 0.47933071, -0.0335235 ],\n",
              "       [ 1.71657663, -0.03348749],\n",
              "       [ 1.12485032, -0.03350249],\n",
              "       [-0.02910107, -0.03352704],\n",
              "       [-0.69419034, -0.03351492],\n",
              "       [ 0.04868747, -0.03353304],\n",
              "       [ 0.66760727, -0.0335091 ],\n",
              "       [ 1.50140342, -0.03349229],\n",
              "       [ 0.25590741, -0.03353757],\n",
              "       [-0.93159094, -0.03355514],\n",
              "       [-0.20892756, -0.03353368],\n",
              "       [-0.94661359, -0.03354808],\n",
              "       [-1.29433085, -0.03350221],\n",
              "       [ 1.20554027, -0.03356491],\n",
              "       [ 1.33751308, -0.03350233],\n",
              "       [-0.24687884, -0.0335175 ],\n",
              "       [-0.39337397, -0.03355595],\n",
              "       [-0.1658236 , -0.03352743],\n",
              "       [-0.27464329, -0.0335364 ],\n",
              "       [ 0.28105558, -0.03351796],\n",
              "       [ 0.80051219, -0.03350977],\n",
              "       [ 1.35227481, -0.03348833],\n",
              "       [-1.618608  , -0.03356731],\n",
              "       [-1.68252306, -0.03349632],\n",
              "       [-1.60515968, -0.03356671],\n",
              "       [ 1.10249214, -0.03356127],\n",
              "       [-1.27914866, -0.03349063],\n",
              "       [-0.37784648, -0.03354461],\n",
              "       [ 1.23364605, -0.03350104],\n",
              "       [-0.77424551, -0.03355867],\n",
              "       [ 0.44705421, -0.03352017],\n",
              "       [-0.70263179, -0.03350708],\n",
              "       [-0.55619032, -0.0335502 ],\n",
              "       [ 0.61764668, -0.03351883],\n",
              "       [-0.89461333, -0.03350248],\n",
              "       [-0.15274057, -0.0335193 ],\n",
              "       [ 0.93373749, -0.03350435],\n",
              "       [ 1.4879551 , -0.03356071],\n",
              "       [ 0.96156055, -0.03356166],\n",
              "       [-0.50956836, -0.03355078],\n",
              "       [ 0.81793643, -0.03351151],\n",
              "       [-0.65976908, -0.03354134],\n",
              "       [ 1.3574993 , -0.0335524 ],\n",
              "       [-1.32274485, -0.03349709],\n",
              "       [-1.55136638, -0.03356461],\n",
              "       [ 0.69450392, -0.0335142 ],\n",
              "       [ 1.66278332, -0.03356011],\n",
              "       [ 1.00686994, -0.03351062],\n",
              "       [-0.9192951 , -0.03355891],\n",
              "       [-0.77136352, -0.0335169 ],\n",
              "       [ 0.08121752, -0.0335198 ],\n",
              "       [-0.66930156, -0.03355783],\n",
              "       [-1.586165  , -0.03355912],\n",
              "       [-0.75576526, -0.03355416],\n",
              "       [ 0.46588239, -0.0335505 ],\n",
              "       [ 0.07109549, -0.03352031],\n",
              "       [ 1.66604193, -0.03356593],\n",
              "       [ 1.10719198, -0.03349876],\n",
              "       [ 0.65409786, -0.03352435],\n",
              "       [-0.0840327 , -0.03354584],\n",
              "       [ 1.1705281 , -0.03354628],\n",
              "       [ 1.10393605, -0.03350515],\n",
              "       [ 0.38519244, -0.0335229 ],\n",
              "       [ 1.44761012, -0.03355561],\n",
              "       [-1.06722667, -0.03349799],\n",
              "       [-0.20653387, -0.0335355 ],\n",
              "       [ 0.12635374, -0.03353106],\n",
              "       [ 0.29715382, -0.03353048],\n",
              "       [ 0.83611525, -0.03354615],\n",
              "       [ 0.48332749, -0.03354889],\n",
              "       [ 0.83292081, -0.03354867],\n",
              "       [-0.17963722, -0.0335187 ],\n",
              "       [ 1.71657663, -0.03348719],\n",
              "       [-0.87066212, -0.03350616],\n",
              "       [ 1.13104627, -0.03355349],\n",
              "       [ 1.66278332, -0.03350189],\n",
              "       [-1.33619318, -0.03356251],\n",
              "       [-1.53791805, -0.03349499],\n",
              "       [ 1.12172032, -0.03356637],\n",
              "       [-1.17734937, -0.03355983],\n",
              "       [-1.36217172, -0.03356556],\n",
              "       [-1.5110214 , -0.033504  ],\n",
              "       [-0.38136209, -0.0335472 ],\n",
              "       [-1.68910833, -0.03350629],\n",
              "       [ 0.93657377, -0.0335085 ],\n",
              "       [-0.65145529, -0.03355803],\n",
              "       [ 0.73878958, -0.03356145],\n",
              "       [ 0.58691732, -0.0335181 ],\n",
              "       [ 0.81793643, -0.03351114],\n",
              "       [-1.29270305, -0.03349492],\n",
              "       [ 0.96218882, -0.03355251],\n",
              "       [-0.46134659, -0.03351092],\n",
              "       [ 0.97691874, -0.0335088 ],\n",
              "       [-1.17481327, -0.03349889],\n",
              "       [ 0.10604683, -0.03355376],\n",
              "       [ 0.24170566, -0.03352757],\n",
              "       [ 1.8107149 , -0.03349709],\n",
              "       [-1.38215053, -0.03349122],\n",
              "       [-1.17481327, -0.03350189],\n",
              "       [-0.16738332, -0.03353713],\n",
              "       [ 0.3895853 , -0.03354323],\n",
              "       [-1.15582161, -0.03349434],\n",
              "       [-0.85558431, -0.03352499],\n",
              "       [-1.45372068, -0.03349509],\n",
              "       [ 0.60104233, -0.03354617],\n",
              "       [ 0.57346899, -0.0335436 ],\n",
              "       [ 0.90944005, -0.03351461],\n",
              "       [-0.95083519, -0.03355213],\n",
              "       [ 0.30046013, -0.0335149 ],\n",
              "       [-1.31319509, -0.03356437],\n",
              "       [-0.92110198, -0.03355588],\n",
              "       [ 1.50197054, -0.03356204],\n",
              "       [-0.07721708, -0.03354099],\n",
              "       [-1.31622645, -0.03349321],\n",
              "       [ 0.88278047, -0.03356011],\n",
              "       [-1.32842381, -0.03356494],\n",
              "       [-0.82515682, -0.0335469 ],\n",
              "       [-0.09481278, -0.03352737],\n",
              "       [-0.10445625, -0.03353523],\n",
              "       [-0.66463858, -0.03355238],\n",
              "       [-1.01812213, -0.03355999],\n",
              "       [ 1.35347185, -0.0335097 ],\n",
              "       [ 0.83976014, -0.03356632],\n",
              "       [-0.15629121, -0.03354598],\n",
              "       [ 1.36692017, -0.03355381],\n",
              "       [ 0.63711728, -0.03350749],\n",
              "       [ 0.43197124, -0.03353465],\n",
              "       [-1.16468498, -0.03349658],\n",
              "       [ 0.42318701, -0.0335299 ],\n",
              "       [-1.72470395, -0.03349775],\n",
              "       [ 1.55519672, -0.03348929],\n",
              "       [ 1.20554027, -0.03356491],\n",
              "       [ 1.41390062, -0.03349536],\n",
              "       [-0.53588303, -0.03354499],\n",
              "       [-1.33144547, -0.0335584 ],\n",
              "       [-1.52446973, -0.03356401],\n",
              "       [ 1.55519672, -0.03356161],\n",
              "       [-1.4215794 , -0.03349215],\n",
              "       [ 1.43055526, -0.03349418],\n",
              "       [-0.32007489, -0.03354457],\n",
              "       [-0.01825731, -0.0335343 ],\n",
              "       [ 0.97708258, -0.03350734],\n",
              "       [-0.32289832, -0.03355255],\n",
              "       [ 0.47933071, -0.0335454 ],\n",
              "       [-0.10181701, -0.03353405],\n",
              "       [-0.93476415, -0.03351417],\n",
              "       [ 0.87375709, -0.033557  ],\n",
              "       [ 1.02508694, -0.03349657],\n",
              "       [-0.61234192, -0.03354646],\n",
              "       [-1.54104604, -0.0335053 ],\n",
              "       [ 0.40460498, -0.03352866],\n",
              "       [-1.09243534, -0.0335619 ],\n",
              "       [-0.98653672, -0.03356641],\n",
              "       [ 1.57343255, -0.03348839],\n",
              "       [-0.8415703 , -0.0335667 ],\n",
              "       [ 1.31438372, -0.03350743],\n",
              "       [ 0.42892888, -0.03351246],\n",
              "       [-0.15711391, -0.03355308],\n",
              "       [ 1.6589729 , -0.03348854],\n",
              "       [-1.35305407, -0.03356475],\n",
              "       [-1.32547821, -0.03349294],\n",
              "       [-1.13075072, -0.03349402],\n",
              "       [-1.13633168, -0.03356449],\n",
              "       [ 1.07105702, -0.0335034 ],\n",
              "       [-1.46882832, -0.03349902],\n",
              "       [-1.25191018, -0.03350003],\n",
              "       [ 1.2581871 , -0.03348891],\n",
              "       [ 0.43688744, -0.03355428],\n",
              "       [ 0.48204372, -0.03352314],\n",
              "       [-0.09924641, -0.03351893],\n",
              "       [ 0.37198194, -0.03351986],\n",
              "       [ 0.64379739, -0.03351419],\n",
              "       [ 0.10990593, -0.0335343 ],\n",
              "       [-1.20587963, -0.03349636],\n",
              "       [ 1.53290062, -0.03356521],\n",
              "       [ 0.78864219, -0.0335424 ],\n",
              "       [-0.74446687, -0.03355171],\n",
              "       [-1.34098728, -0.03356718],\n",
              "       [-1.48412475, -0.03349649],\n",
              "       [ 1.2727819 , -0.03349919],\n",
              "       [ 0.38923354, -0.0335364 ],\n",
              "       [ 0.48376558, -0.03352357],\n",
              "       [ 0.63827976, -0.03352224],\n",
              "       [-1.01343337, -0.033504  ],\n",
              "       [ 0.26415751, -0.0335334 ],\n",
              "       [ 0.87823468, -0.03351654],\n",
              "       [ 0.51291189, -0.03352796],\n",
              "       [ 1.64478578, -0.03348837],\n",
              "       [ 1.77567182, -0.03349253],\n",
              "       [ 1.46932682, -0.03349533],\n",
              "       [ 0.60036564, -0.0335235 ],\n",
              "       [ 1.49451535, -0.03349154],\n",
              "       [-1.72248868, -0.03356572],\n",
              "       [ 1.39381682, -0.03349259],\n",
              "       [-1.03315139, -0.03356394],\n",
              "       [ 1.46073019, -0.03348661],\n",
              "       [-1.48412475, -0.03356341],\n",
              "       [-1.24595049, -0.03350451],\n",
              "       [-1.17783515, -0.03355704],\n",
              "       [-0.55670055, -0.03354873],\n",
              "       [-0.67722525, -0.0335481 ],\n",
              "       [-1.3496415 , -0.03349649],\n",
              "       [ 0.99036707, -0.03355171],\n",
              "       [ 0.15796787, -0.03353159],\n",
              "       [ 0.05218179, -0.03352573],\n",
              "       [-0.74360834, -0.03356621],\n",
              "       [-1.17069062, -0.03351105],\n",
              "       [-1.19064811, -0.03349597],\n",
              "       [-1.73894931, -0.03350238],\n",
              "       [ 1.05920125, -0.0334953 ],\n",
              "       [-1.52446973, -0.03356431],\n",
              "       [-0.30210126, -0.03354439],\n",
              "       [-0.81157515, -0.03354599],\n",
              "       [ 0.35829579, -0.0335295 ],\n",
              "       [ 0.80622806, -0.03350731],\n",
              "       [ 0.68405896, -0.03351099],\n",
              "       [ 1.00734113, -0.0335541 ],\n",
              "       [-1.26753119, -0.03350974],\n",
              "       [ 0.62878262, -0.03355474],\n",
              "       [ 1.27611892, -0.03355894],\n",
              "       [-0.25349681, -0.03353848],\n",
              "       [-0.94619175, -0.03355951],\n",
              "       [-1.72975868, -0.03356236],\n",
              "       [ 1.10375298, -0.03350568],\n",
              "       [ 1.79552423, -0.03350275],\n",
              "       [ 1.30579396, -0.03356543],\n",
              "       [-1.46200652, -0.03349863],\n",
              "       [-0.51584534, -0.0335493 ],\n",
              "       [-1.1706936 , -0.03355732],\n",
              "       [-1.69929795, -0.03350099],\n",
              "       [ 0.96908927, -0.03354949],\n",
              "       [-1.18571374, -0.03356116],\n",
              "       [-0.41536339, -0.03354677],\n",
              "       [-1.3456922 , -0.03350289],\n",
              "       [ 0.30637302, -0.03353475],\n",
              "       [ 1.31975847, -0.03355127],\n",
              "       [-1.54969064, -0.03350054],\n",
              "       [ 1.63766692, -0.03349605],\n",
              "       [ 0.97186113, -0.03356051],\n",
              "       [ 1.4792921 , -0.03356063],\n",
              "       [-0.3470512 , -0.03353302],\n",
              "       [ 1.42623189, -0.0334954 ],\n",
              "       [-0.74675421, -0.03354895],\n",
              "       [ 1.15174697, -0.03350219],\n",
              "       [-0.27721423, -0.03355063],\n",
              "       [-1.53791805, -0.03348749],\n",
              "       [-1.3230588 , -0.03356437],\n",
              "       [ 0.34345817, -0.03354923],\n",
              "       [ 1.08063249, -0.03354184],\n",
              "       [ 1.24202408, -0.03349242],\n",
              "       [ 1.43277249, -0.03348803],\n",
              "       [ 0.85538783, -0.03351107],\n",
              "       [ 1.35171898, -0.03350913],\n",
              "       [-1.2958482 , -0.03349739],\n",
              "       [-1.39117282, -0.0335674 ],\n",
              "       [-0.76712487, -0.0335582 ],\n",
              "       [-1.53692278, -0.03356251],\n",
              "       [-0.46107518, -0.03355597],\n",
              "       [ 1.85838423, -0.03349828],\n",
              "       [ 0.21036421, -0.0335184 ],\n",
              "       [-0.67722525, -0.0335508 ],\n",
              "       [ 0.15657091, -0.0335385 ],\n",
              "       [-1.08718042, -0.03355344],\n",
              "       [ 0.47674042, -0.0335112 ],\n",
              "       [-1.4731155 , -0.03349171],\n",
              "       [-1.17565945, -0.03355356],\n",
              "       [ 0.60036564, -0.03351   ],\n",
              "       [-0.73584965, -0.03350333],\n",
              "       [ 0.77519387, -0.0335508 ],\n",
              "       [ 1.01082136, -0.03350787],\n",
              "       [-0.18235629, -0.0335339 ],\n",
              "       [-0.90584677, -0.033549  ],\n",
              "       [-0.54274199, -0.03355711],\n",
              "       [ 0.83116039, -0.03355057],\n",
              "       [-0.6113451 , -0.0335443 ],\n",
              "       [ 0.18346756, -0.0335352 ],\n",
              "       [ 1.63932255, -0.03350537],\n",
              "       [-1.74537778, -0.03349445],\n",
              "       [ 0.96283564, -0.03351238],\n",
              "       [ 0.5835918 , -0.03355135],\n",
              "       [ 0.42553741, -0.0335493 ],\n",
              "       [-0.27377549, -0.0335403 ],\n",
              "       [-1.58387425, -0.03356743],\n",
              "       [-1.42281629, -0.03351705],\n",
              "       [ 0.46459558, -0.03352232],\n",
              "       [ 1.23034787, -0.03349572],\n",
              "       [ 0.10132024, -0.03352449],\n",
              "       [-1.1794299 , -0.03350801],\n",
              "       [ 1.7031283 , -0.03356131],\n",
              "       [ 1.7031283 , -0.03350069],\n",
              "       [ 0.52926898, -0.03351864],\n",
              "       [ 1.52237443, -0.03354866],\n",
              "       [-1.32764641, -0.03349022],\n",
              "       [ 0.27760584, -0.0335415 ],\n",
              "       [ 0.49277904, -0.0335271 ],\n",
              "       [-0.75671251, -0.03356423],\n",
              "       [-0.86286626, -0.0335049 ],\n",
              "       [-0.8117085 , -0.03355711],\n",
              "       [-0.84414446, -0.03351806],\n",
              "       [ 1.56737984, -0.03356313],\n",
              "       [ 1.24001537, -0.03349179],\n",
              "       [-1.47481734, -0.03349733],\n",
              "       [ 1.10888634, -0.0335548 ],\n",
              "       [-0.44976022, -0.03351406],\n",
              "       [ 0.89018969, -0.03351208],\n",
              "       [ 1.08450534, -0.0335136 ],\n",
              "       [-0.7283426 , -0.03352921],\n",
              "       [-0.60518   , -0.03355465],\n",
              "       [-1.33670593, -0.03350481],\n",
              "       [ 0.62481765, -0.03355139],\n",
              "       [-1.18233926, -0.03356527],\n",
              "       [ 1.3265752 , -0.03350039],\n",
              "       [-1.1430888 , -0.03356669],\n",
              "       [ 1.44139175, -0.03356237],\n",
              "       [ 0.79906985, -0.03352307],\n",
              "       [-1.73891493, -0.03349289],\n",
              "       [-1.15094107, -0.03351989],\n",
              "       [-1.32274485, -0.03350069],\n",
              "       [ 1.12384415, -0.03354771],\n",
              "       [-1.13847684, -0.03349039]])"
            ]
          },
          "metadata": {
            "tags": []
          },
          "execution_count": 25
        }
      ]
    },
    {
      "cell_type": "code",
      "metadata": {
        "colab": {
          "base_uri": "https://localhost:8080/",
          "height": 402
        },
        "id": "drANHnUK8Wkq",
        "outputId": "2c15efc1-fe32-4972-a8f0-b6e4cddbb73c"
      },
      "source": [
        "pd.DataFrame(xtest)"
      ],
      "execution_count": 26,
      "outputs": [
        {
          "output_type": "execute_result",
          "data": {
            "text/html": [
              "<div>\n",
              "<style scoped>\n",
              "    .dataframe tbody tr th:only-of-type {\n",
              "        vertical-align: middle;\n",
              "    }\n",
              "\n",
              "    .dataframe tbody tr th {\n",
              "        vertical-align: top;\n",
              "    }\n",
              "\n",
              "    .dataframe thead th {\n",
              "        text-align: right;\n",
              "    }\n",
              "</style>\n",
              "<table border=\"1\" class=\"dataframe\">\n",
              "  <thead>\n",
              "    <tr style=\"text-align: right;\">\n",
              "      <th></th>\n",
              "      <th>0</th>\n",
              "      <th>1</th>\n",
              "    </tr>\n",
              "  </thead>\n",
              "  <tbody>\n",
              "    <tr>\n",
              "      <th>0</th>\n",
              "      <td>-0.354465</td>\n",
              "      <td>-0.033547</td>\n",
              "    </tr>\n",
              "    <tr>\n",
              "      <th>1</th>\n",
              "      <td>1.064927</td>\n",
              "      <td>-0.033519</td>\n",
              "    </tr>\n",
              "    <tr>\n",
              "      <th>2</th>\n",
              "      <td>0.291174</td>\n",
              "      <td>-0.033528</td>\n",
              "    </tr>\n",
              "    <tr>\n",
              "      <th>3</th>\n",
              "      <td>-0.797934</td>\n",
              "      <td>-0.033518</td>\n",
              "    </tr>\n",
              "    <tr>\n",
              "      <th>4</th>\n",
              "      <td>-0.738943</td>\n",
              "      <td>-0.033556</td>\n",
              "    </tr>\n",
              "    <tr>\n",
              "      <th>...</th>\n",
              "      <td>...</td>\n",
              "      <td>...</td>\n",
              "    </tr>\n",
              "    <tr>\n",
              "      <th>441</th>\n",
              "      <td>-1.738915</td>\n",
              "      <td>-0.033493</td>\n",
              "    </tr>\n",
              "    <tr>\n",
              "      <th>442</th>\n",
              "      <td>-1.150941</td>\n",
              "      <td>-0.033520</td>\n",
              "    </tr>\n",
              "    <tr>\n",
              "      <th>443</th>\n",
              "      <td>-1.322745</td>\n",
              "      <td>-0.033501</td>\n",
              "    </tr>\n",
              "    <tr>\n",
              "      <th>444</th>\n",
              "      <td>1.123844</td>\n",
              "      <td>-0.033548</td>\n",
              "    </tr>\n",
              "    <tr>\n",
              "      <th>445</th>\n",
              "      <td>-1.138477</td>\n",
              "      <td>-0.033490</td>\n",
              "    </tr>\n",
              "  </tbody>\n",
              "</table>\n",
              "<p>446 rows × 2 columns</p>\n",
              "</div>"
            ],
            "text/plain": [
              "            0         1\n",
              "0   -0.354465 -0.033547\n",
              "1    1.064927 -0.033519\n",
              "2    0.291174 -0.033528\n",
              "3   -0.797934 -0.033518\n",
              "4   -0.738943 -0.033556\n",
              "..        ...       ...\n",
              "441 -1.738915 -0.033493\n",
              "442 -1.150941 -0.033520\n",
              "443 -1.322745 -0.033501\n",
              "444  1.123844 -0.033548\n",
              "445 -1.138477 -0.033490\n",
              "\n",
              "[446 rows x 2 columns]"
            ]
          },
          "metadata": {
            "tags": []
          },
          "execution_count": 26
        }
      ]
    },
    {
      "cell_type": "code",
      "metadata": {
        "colab": {
          "base_uri": "https://localhost:8080/",
          "height": 402
        },
        "id": "PjMWCjtT8eoA",
        "outputId": "008685f7-9529-49bf-a12a-f89149127d52"
      },
      "source": [
        "pd.DataFrame(xtrain)"
      ],
      "execution_count": 27,
      "outputs": [
        {
          "output_type": "execute_result",
          "data": {
            "text/html": [
              "<div>\n",
              "<style scoped>\n",
              "    .dataframe tbody tr th:only-of-type {\n",
              "        vertical-align: middle;\n",
              "    }\n",
              "\n",
              "    .dataframe tbody tr th {\n",
              "        vertical-align: top;\n",
              "    }\n",
              "\n",
              "    .dataframe thead th {\n",
              "        text-align: right;\n",
              "    }\n",
              "</style>\n",
              "<table border=\"1\" class=\"dataframe\">\n",
              "  <thead>\n",
              "    <tr style=\"text-align: right;\">\n",
              "      <th></th>\n",
              "      <th>0</th>\n",
              "      <th>1</th>\n",
              "    </tr>\n",
              "  </thead>\n",
              "  <tbody>\n",
              "    <tr>\n",
              "      <th>0</th>\n",
              "      <td>1.440105</td>\n",
              "      <td>-0.033509</td>\n",
              "    </tr>\n",
              "    <tr>\n",
              "      <th>1</th>\n",
              "      <td>0.698398</td>\n",
              "      <td>-0.033520</td>\n",
              "    </tr>\n",
              "    <tr>\n",
              "      <th>2</th>\n",
              "      <td>-0.633651</td>\n",
              "      <td>-0.033530</td>\n",
              "    </tr>\n",
              "    <tr>\n",
              "      <th>3</th>\n",
              "      <td>-0.236318</td>\n",
              "      <td>-0.033539</td>\n",
              "    </tr>\n",
              "    <tr>\n",
              "      <th>4</th>\n",
              "      <td>1.354013</td>\n",
              "      <td>-0.033505</td>\n",
              "    </tr>\n",
              "    <tr>\n",
              "      <th>...</th>\n",
              "      <td>...</td>\n",
              "      <td>...</td>\n",
              "    </tr>\n",
              "    <tr>\n",
              "      <th>1776</th>\n",
              "      <td>1.071057</td>\n",
              "      <td>-0.033505</td>\n",
              "    </tr>\n",
              "    <tr>\n",
              "      <th>1777</th>\n",
              "      <td>-0.416851</td>\n",
              "      <td>-0.033546</td>\n",
              "    </tr>\n",
              "    <tr>\n",
              "      <th>1778</th>\n",
              "      <td>-0.663777</td>\n",
              "      <td>-0.033512</td>\n",
              "    </tr>\n",
              "    <tr>\n",
              "      <th>1779</th>\n",
              "      <td>-0.760130</td>\n",
              "      <td>-0.033529</td>\n",
              "    </tr>\n",
              "    <tr>\n",
              "      <th>1780</th>\n",
              "      <td>-0.999985</td>\n",
              "      <td>-0.033560</td>\n",
              "    </tr>\n",
              "  </tbody>\n",
              "</table>\n",
              "<p>1781 rows × 2 columns</p>\n",
              "</div>"
            ],
            "text/plain": [
              "             0         1\n",
              "0     1.440105 -0.033509\n",
              "1     0.698398 -0.033520\n",
              "2    -0.633651 -0.033530\n",
              "3    -0.236318 -0.033539\n",
              "4     1.354013 -0.033505\n",
              "...        ...       ...\n",
              "1776  1.071057 -0.033505\n",
              "1777 -0.416851 -0.033546\n",
              "1778 -0.663777 -0.033512\n",
              "1779 -0.760130 -0.033529\n",
              "1780 -0.999985 -0.033560\n",
              "\n",
              "[1781 rows x 2 columns]"
            ]
          },
          "metadata": {
            "tags": []
          },
          "execution_count": 27
        }
      ]
    },
    {
      "cell_type": "markdown",
      "metadata": {
        "id": "pSctbQuZ8u4Y"
      },
      "source": [
        "# Modeling"
      ]
    },
    {
      "cell_type": "markdown",
      "metadata": {
        "id": "99_GnfOW_v3h"
      },
      "source": [
        "**Default HyperParameters**"
      ]
    },
    {
      "cell_type": "code",
      "metadata": {
        "id": "6YBrrJOv8iOQ"
      },
      "source": [
        "from sklearn.linear_model import LogisticRegression\n",
        "LG = LogisticRegression(random_state = 0)\n",
        "SVML = SVC(kernel='linear',random_state=0)\n",
        "SVMRBF = SVC(kernel='rbf',random_state=0)\n",
        "DecisionTree = DecisionTreeClassifier(criterion='gini',random_state=0)\n",
        "KNN = KNeighborsClassifier()"
      ],
      "execution_count": 32,
      "outputs": []
    },
    {
      "cell_type": "code",
      "metadata": {
        "colab": {
          "base_uri": "https://localhost:8080/"
        },
        "id": "EmjN6hYa-JHn",
        "outputId": "2a61e975-c9c5-4f39-ac90-0935fe00076f"
      },
      "source": [
        "LG.fit(xtrain,ytrain)\n",
        "SVML.fit(xtrain,ytrain)\n",
        "SVMRBF.fit(xtrain,ytrain)\n",
        "DecisionTree.fit(xtrain,ytrain)\n",
        "KNN.fit(xtrain,ytrain)"
      ],
      "execution_count": 33,
      "outputs": [
        {
          "output_type": "execute_result",
          "data": {
            "text/plain": [
              "KNeighborsClassifier(algorithm='auto', leaf_size=30, metric='minkowski',\n",
              "                     metric_params=None, n_jobs=None, n_neighbors=5, p=2,\n",
              "                     weights='uniform')"
            ]
          },
          "metadata": {
            "tags": []
          },
          "execution_count": 33
        }
      ]
    },
    {
      "cell_type": "code",
      "metadata": {
        "id": "O0ZdP-gUAIc6"
      },
      "source": [
        "lg_pred = LG.predict(xtest)\n",
        "svml_pred = SVML.predict(xtest)\n",
        "svmrbf_pred = SVMRBF.predict(xtest)\n",
        "dt_pred = DecisionTree.predict(xtest)\n",
        "knn_pred = KNN.predict(xtest)"
      ],
      "execution_count": 34,
      "outputs": []
    },
    {
      "cell_type": "code",
      "metadata": {
        "id": "tDLRyCCkAhpQ"
      },
      "source": [
        "lg_acc = accuracy_score(ytest,lg_pred)\n",
        "svml_acc = accuracy_score(ytest,svml_pred)\n",
        "svmrbf_acc = accuracy_score(ytest,svmrbf_pred)\n",
        "dt_acc = accuracy_score(ytest,dt_pred)\n",
        "knn_acc = accuracy_score(ytest,knn_pred)"
      ],
      "execution_count": 36,
      "outputs": []
    },
    {
      "cell_type": "code",
      "metadata": {
        "colab": {
          "base_uri": "https://localhost:8080/"
        },
        "id": "as5k6pNAA7rn",
        "outputId": "bd33a761-ba55-4029-8251-2a01ba971430"
      },
      "source": [
        "print(\"Logistic Regression Accuracy\",lg_acc)\n",
        "print(\"SVM with linear kernel Accuracy\",svml_acc)\n",
        "print(\"SVM with rbf kernel Accuracy\",svmrbf_acc)\n",
        "print(\"Decision Tree Accuarcy\",dt_acc)\n",
        "print(\"KNN Accuracy\",knn_acc)"
      ],
      "execution_count": 37,
      "outputs": [
        {
          "output_type": "stream",
          "text": [
            "Logistic Regression Accuracy 0.5919282511210763\n",
            "SVM with linear kernel Accuracy 0.5426008968609866\n",
            "SVM with rbf kernel Accuracy 0.5829596412556054\n",
            "Decision Tree Accuarcy 0.9349775784753364\n",
            "KNN Accuracy 0.5717488789237668\n"
          ],
          "name": "stdout"
        }
      ]
    },
    {
      "cell_type": "markdown",
      "metadata": {
        "id": "kUsMwIt8RjKc"
      },
      "source": [
        "**Hyper Parameter Tuned Models**"
      ]
    },
    {
      "cell_type": "code",
      "metadata": {
        "id": "aQt4Mgp5BdA-"
      },
      "source": [
        "lg_grid = {'penalty':['l1','l2','none','elasticnet'],'solver':['newton-cg', 'liblinear', 'sag', 'saga','lbfgs'],'C':[100, 10, 1.0, 0.1, 0.01]}\n",
        "svm_grid = {'kernel':['linear', 'poly', 'rbf', 'sigmoid'],'C':[100, 10, 1.0, 0.1, 0.001]}\n",
        "dt_grid = {'criterion':['gini', 'entropy'],'max_features':['sqrt','log2','None']}\n",
        "knn_grid = {'n_neighbors':list(range(1,21,2)),'metric':['euclidean', 'manhattan', 'minkowski'],'weights':['uniform', 'distance']}"
      ],
      "execution_count": 56,
      "outputs": []
    },
    {
      "cell_type": "code",
      "metadata": {
        "id": "dlsLMsPfF-Q3"
      },
      "source": [
        "from sklearn.linear_model import LogisticRegression\n",
        "lg_temp = LogisticRegression()\n",
        "svml_temp = SVC()\n",
        "dt_temp = DecisionTreeClassifier()\n",
        "knn_temp = KNeighborsClassifier()"
      ],
      "execution_count": 39,
      "outputs": []
    },
    {
      "cell_type": "code",
      "metadata": {
        "id": "gOh72RbqHH3z"
      },
      "source": [
        "cv = RepeatedStratifiedKFold(n_splits=10, n_repeats=3, random_state=1)"
      ],
      "execution_count": 41,
      "outputs": []
    },
    {
      "cell_type": "code",
      "metadata": {
        "id": "kBknnioFGZyp"
      },
      "source": [
        "grid_search_lr = GridSearchCV(estimator=lg_temp, param_grid=lg_grid, n_jobs=-1, cv=cv, scoring='accuracy',error_score=0)\n",
        "grid_search_svm = GridSearchCV(estimator=svml_temp, param_grid=svm_grid, n_jobs=-1, cv=cv, scoring='accuracy',error_score=0)\n",
        "grid_search_dt = GridSearchCV(estimator=dt_temp, param_grid=dt_grid, n_jobs=-1, cv=cv, scoring='accuracy',error_score=0)\n",
        "grid_search_knn = GridSearchCV(estimator=knn_temp, param_grid=knn_grid, n_jobs=-1, cv=cv, scoring='accuracy',error_score=0)"
      ],
      "execution_count": 57,
      "outputs": []
    },
    {
      "cell_type": "code",
      "metadata": {
        "id": "3twj4mKPHPke"
      },
      "source": [
        "lr_result = grid_search_lr.fit(xtrain,ytrain)"
      ],
      "execution_count": 60,
      "outputs": []
    },
    {
      "cell_type": "code",
      "metadata": {
        "id": "Ky1YSA7PIJRw"
      },
      "source": [
        "svm_result = grid_search_svm.fit(xtrain,ytrain)"
      ],
      "execution_count": 63,
      "outputs": []
    },
    {
      "cell_type": "code",
      "metadata": {
        "id": "wJQy-aU8HbG_"
      },
      "source": [
        "dt_result = grid_search_dt.fit(xtrain,ytrain)"
      ],
      "execution_count": 64,
      "outputs": []
    },
    {
      "cell_type": "code",
      "metadata": {
        "id": "UM0biukRIMSU"
      },
      "source": [
        "knn_result = grid_search_knn.fit(xtrain,ytrain)"
      ],
      "execution_count": 65,
      "outputs": []
    },
    {
      "cell_type": "code",
      "metadata": {
        "colab": {
          "base_uri": "https://localhost:8080/"
        },
        "id": "tKAFuH9kIMOg",
        "outputId": "96c44f30-a479-426b-b56a-2276a3115974"
      },
      "source": [
        "print(\"Logistic Regression\",\"Best Score : \",lr_result.best_score_,\"Best Params : \",lr_result.best_params_)\n",
        "print(\"Support Vector Classifier\",\"Best Score : \",svm_result.best_score_,\"Best Params : \",svm_result.best_params_)\n",
        "print(\"Decision Tree\",\"Best Score : \",dt_result.best_score_,\"Best Params : \",dt_result.best_params_)\n",
        "print(\"K Nearest Neighbors\",\"Best Score : \",knn_result.best_score_,\"Best Params : \",knn_result.best_params_)"
      ],
      "execution_count": 66,
      "outputs": [
        {
          "output_type": "stream",
          "text": [
            "Logistic Regression Best Score :  0.5792846232711903 Best Params :  {'C': 1.0, 'penalty': 'l1', 'solver': 'saga'}\n",
            "Support Vector Classifier Best Score :  0.5845228380725211 Best Params :  {'C': 1.0, 'kernel': 'rbf'}\n",
            "Decision Tree Best Score :  0.9320601343292952 Best Params :  {'criterion': 'gini', 'max_features': 'sqrt'}\n",
            "K Nearest Neighbors Best Score :  0.5734500868327999 Best Params :  {'metric': 'manhattan', 'n_neighbors': 1, 'weights': 'uniform'}\n"
          ],
          "name": "stdout"
        }
      ]
    },
    {
      "cell_type": "markdown",
      "metadata": {
        "id": "RXImgJ6UMHUb"
      },
      "source": [
        "# Bonus Neural Network Model"
      ]
    },
    {
      "cell_type": "code",
      "metadata": {
        "id": "18Rj7A6PKqLq"
      },
      "source": [
        "from keras.models import Sequential\n",
        "from keras.layers import Dense,Dropout,Input"
      ],
      "execution_count": 70,
      "outputs": []
    },
    {
      "cell_type": "code",
      "metadata": {
        "id": "lWr3P_9IMF6t"
      },
      "source": [
        "model = Sequential()"
      ],
      "execution_count": 87,
      "outputs": []
    },
    {
      "cell_type": "code",
      "metadata": {
        "id": "eMHl8jV4NAzC"
      },
      "source": [
        "model.add(Dense(1,input_dim=2,activation='relu'))"
      ],
      "execution_count": 88,
      "outputs": []
    },
    {
      "cell_type": "code",
      "metadata": {
        "id": "Jh6l4Q51NRuY"
      },
      "source": [
        "model.add(Dense(1,activation='relu'))"
      ],
      "execution_count": 89,
      "outputs": []
    },
    {
      "cell_type": "code",
      "metadata": {
        "id": "iLYAndBsNTIx"
      },
      "source": [
        "model.add(Dense(1,activation='sigmoid'))"
      ],
      "execution_count": 90,
      "outputs": []
    },
    {
      "cell_type": "code",
      "metadata": {
        "colab": {
          "base_uri": "https://localhost:8080/"
        },
        "id": "09eufN-2NasU",
        "outputId": "00e55d7e-d9d8-405f-900b-44ac59f316d3"
      },
      "source": [
        "model.summary()"
      ],
      "execution_count": 91,
      "outputs": [
        {
          "output_type": "stream",
          "text": [
            "Model: \"sequential_3\"\n",
            "_________________________________________________________________\n",
            "Layer (type)                 Output Shape              Param #   \n",
            "=================================================================\n",
            "dense_7 (Dense)              (None, 1)                 3         \n",
            "_________________________________________________________________\n",
            "dense_8 (Dense)              (None, 1)                 2         \n",
            "_________________________________________________________________\n",
            "dense_9 (Dense)              (None, 1)                 2         \n",
            "=================================================================\n",
            "Total params: 7\n",
            "Trainable params: 7\n",
            "Non-trainable params: 0\n",
            "_________________________________________________________________\n"
          ],
          "name": "stdout"
        }
      ]
    },
    {
      "cell_type": "code",
      "metadata": {
        "id": "JNzGWectNcwW"
      },
      "source": [
        "model.compile(optimizer='adam',metrics=['accuracy'],loss='binary_crossentropy')"
      ],
      "execution_count": 92,
      "outputs": []
    },
    {
      "cell_type": "code",
      "metadata": {
        "colab": {
          "base_uri": "https://localhost:8080/"
        },
        "id": "5oJ0ZaUNOOWm",
        "outputId": "74283b5f-e2ae-44af-ccfe-042e3fafef3b"
      },
      "source": [
        "model.fit(xtrain,ytrain,epochs=100,batch_size=64)"
      ],
      "execution_count": 93,
      "outputs": [
        {
          "output_type": "stream",
          "text": [
            "Epoch 1/100\n",
            "28/28 [==============================] - 0s 1ms/step - loss: 0.6856 - accuracy: 0.5377\n",
            "Epoch 2/100\n",
            "28/28 [==============================] - 0s 1ms/step - loss: 0.6885 - accuracy: 0.5383\n",
            "Epoch 3/100\n",
            "28/28 [==============================] - 0s 1ms/step - loss: 0.6904 - accuracy: 0.5424\n",
            "Epoch 4/100\n",
            "28/28 [==============================] - 0s 1ms/step - loss: 0.6866 - accuracy: 0.5347\n",
            "Epoch 5/100\n",
            "28/28 [==============================] - 0s 1ms/step - loss: 0.6854 - accuracy: 0.5431\n",
            "Epoch 6/100\n",
            "28/28 [==============================] - 0s 1ms/step - loss: 0.6804 - accuracy: 0.5551\n",
            "Epoch 7/100\n",
            "28/28 [==============================] - 0s 1ms/step - loss: 0.6918 - accuracy: 0.5387\n",
            "Epoch 8/100\n",
            "28/28 [==============================] - 0s 1ms/step - loss: 0.6866 - accuracy: 0.5269\n",
            "Epoch 9/100\n",
            "28/28 [==============================] - 0s 1ms/step - loss: 0.6858 - accuracy: 0.5432\n",
            "Epoch 10/100\n",
            "28/28 [==============================] - 0s 1ms/step - loss: 0.6817 - accuracy: 0.5568\n",
            "Epoch 11/100\n",
            "28/28 [==============================] - 0s 1ms/step - loss: 0.6882 - accuracy: 0.5594\n",
            "Epoch 12/100\n",
            "28/28 [==============================] - 0s 1ms/step - loss: 0.6841 - accuracy: 0.5503\n",
            "Epoch 13/100\n",
            "28/28 [==============================] - 0s 1ms/step - loss: 0.6850 - accuracy: 0.5501\n",
            "Epoch 14/100\n",
            "28/28 [==============================] - 0s 1ms/step - loss: 0.6854 - accuracy: 0.5641\n",
            "Epoch 15/100\n",
            "28/28 [==============================] - 0s 1ms/step - loss: 0.6788 - accuracy: 0.5651\n",
            "Epoch 16/100\n",
            "28/28 [==============================] - 0s 1ms/step - loss: 0.6837 - accuracy: 0.5744\n",
            "Epoch 17/100\n",
            "28/28 [==============================] - 0s 1ms/step - loss: 0.6791 - accuracy: 0.5622\n",
            "Epoch 18/100\n",
            "28/28 [==============================] - 0s 1ms/step - loss: 0.6846 - accuracy: 0.5419\n",
            "Epoch 19/100\n",
            "28/28 [==============================] - 0s 1ms/step - loss: 0.6821 - accuracy: 0.5537\n",
            "Epoch 20/100\n",
            "28/28 [==============================] - 0s 1ms/step - loss: 0.6843 - accuracy: 0.5517\n",
            "Epoch 21/100\n",
            "28/28 [==============================] - 0s 1ms/step - loss: 0.6841 - accuracy: 0.5487\n",
            "Epoch 22/100\n",
            "28/28 [==============================] - 0s 1ms/step - loss: 0.6772 - accuracy: 0.5790\n",
            "Epoch 23/100\n",
            "28/28 [==============================] - 0s 1ms/step - loss: 0.6874 - accuracy: 0.5535\n",
            "Epoch 24/100\n",
            "28/28 [==============================] - 0s 1ms/step - loss: 0.6813 - accuracy: 0.5577\n",
            "Epoch 25/100\n",
            "28/28 [==============================] - 0s 1ms/step - loss: 0.6770 - accuracy: 0.5647\n",
            "Epoch 26/100\n",
            "28/28 [==============================] - 0s 1ms/step - loss: 0.6822 - accuracy: 0.5605\n",
            "Epoch 27/100\n",
            "28/28 [==============================] - 0s 1ms/step - loss: 0.6798 - accuracy: 0.5662\n",
            "Epoch 28/100\n",
            "28/28 [==============================] - 0s 1ms/step - loss: 0.6780 - accuracy: 0.5721\n",
            "Epoch 29/100\n",
            "28/28 [==============================] - 0s 1ms/step - loss: 0.6767 - accuracy: 0.5877\n",
            "Epoch 30/100\n",
            "28/28 [==============================] - 0s 1ms/step - loss: 0.6814 - accuracy: 0.5516\n",
            "Epoch 31/100\n",
            "28/28 [==============================] - 0s 1ms/step - loss: 0.6804 - accuracy: 0.5595\n",
            "Epoch 32/100\n",
            "28/28 [==============================] - 0s 1ms/step - loss: 0.6821 - accuracy: 0.5562\n",
            "Epoch 33/100\n",
            "28/28 [==============================] - 0s 1ms/step - loss: 0.6867 - accuracy: 0.5577\n",
            "Epoch 34/100\n",
            "28/28 [==============================] - 0s 1ms/step - loss: 0.6806 - accuracy: 0.5842\n",
            "Epoch 35/100\n",
            "28/28 [==============================] - 0s 1ms/step - loss: 0.6825 - accuracy: 0.5627\n",
            "Epoch 36/100\n",
            "28/28 [==============================] - 0s 1ms/step - loss: 0.6787 - accuracy: 0.5661\n",
            "Epoch 37/100\n",
            "28/28 [==============================] - 0s 1ms/step - loss: 0.6851 - accuracy: 0.5574\n",
            "Epoch 38/100\n",
            "28/28 [==============================] - 0s 1ms/step - loss: 0.6820 - accuracy: 0.5583\n",
            "Epoch 39/100\n",
            "28/28 [==============================] - 0s 1ms/step - loss: 0.6788 - accuracy: 0.5672\n",
            "Epoch 40/100\n",
            "28/28 [==============================] - 0s 1ms/step - loss: 0.6858 - accuracy: 0.5495\n",
            "Epoch 41/100\n",
            "28/28 [==============================] - 0s 2ms/step - loss: 0.6843 - accuracy: 0.5531\n",
            "Epoch 42/100\n",
            "28/28 [==============================] - 0s 2ms/step - loss: 0.6845 - accuracy: 0.5631\n",
            "Epoch 43/100\n",
            "28/28 [==============================] - 0s 1ms/step - loss: 0.6810 - accuracy: 0.5661\n",
            "Epoch 44/100\n",
            "28/28 [==============================] - 0s 2ms/step - loss: 0.6871 - accuracy: 0.5489\n",
            "Epoch 45/100\n",
            "28/28 [==============================] - 0s 1ms/step - loss: 0.6813 - accuracy: 0.5619\n",
            "Epoch 46/100\n",
            "28/28 [==============================] - 0s 1ms/step - loss: 0.6768 - accuracy: 0.5741\n",
            "Epoch 47/100\n",
            "28/28 [==============================] - 0s 1ms/step - loss: 0.6804 - accuracy: 0.5699\n",
            "Epoch 48/100\n",
            "28/28 [==============================] - 0s 1ms/step - loss: 0.6766 - accuracy: 0.5763\n",
            "Epoch 49/100\n",
            "28/28 [==============================] - 0s 1ms/step - loss: 0.6835 - accuracy: 0.5525\n",
            "Epoch 50/100\n",
            "28/28 [==============================] - 0s 1ms/step - loss: 0.6797 - accuracy: 0.5693\n",
            "Epoch 51/100\n",
            "28/28 [==============================] - 0s 1ms/step - loss: 0.6847 - accuracy: 0.5522\n",
            "Epoch 52/100\n",
            "28/28 [==============================] - 0s 1ms/step - loss: 0.6807 - accuracy: 0.5588\n",
            "Epoch 53/100\n",
            "28/28 [==============================] - 0s 1ms/step - loss: 0.6838 - accuracy: 0.5637\n",
            "Epoch 54/100\n",
            "28/28 [==============================] - 0s 1ms/step - loss: 0.6843 - accuracy: 0.5546\n",
            "Epoch 55/100\n",
            "28/28 [==============================] - 0s 1ms/step - loss: 0.6872 - accuracy: 0.5486\n",
            "Epoch 56/100\n",
            "28/28 [==============================] - 0s 1ms/step - loss: 0.6775 - accuracy: 0.5684\n",
            "Epoch 57/100\n",
            "28/28 [==============================] - 0s 1ms/step - loss: 0.6792 - accuracy: 0.5636\n",
            "Epoch 58/100\n",
            "28/28 [==============================] - 0s 1ms/step - loss: 0.6803 - accuracy: 0.5498\n",
            "Epoch 59/100\n",
            "28/28 [==============================] - 0s 1ms/step - loss: 0.6769 - accuracy: 0.5708\n",
            "Epoch 60/100\n",
            "28/28 [==============================] - 0s 1ms/step - loss: 0.6768 - accuracy: 0.5688\n",
            "Epoch 61/100\n",
            "28/28 [==============================] - 0s 1ms/step - loss: 0.6848 - accuracy: 0.5549\n",
            "Epoch 62/100\n",
            "28/28 [==============================] - 0s 1ms/step - loss: 0.6753 - accuracy: 0.5747\n",
            "Epoch 63/100\n",
            "28/28 [==============================] - 0s 1ms/step - loss: 0.6810 - accuracy: 0.5563\n",
            "Epoch 64/100\n",
            "28/28 [==============================] - 0s 1ms/step - loss: 0.6791 - accuracy: 0.5657\n",
            "Epoch 65/100\n",
            "28/28 [==============================] - 0s 2ms/step - loss: 0.6813 - accuracy: 0.5561\n",
            "Epoch 66/100\n",
            "28/28 [==============================] - 0s 1ms/step - loss: 0.6783 - accuracy: 0.5712\n",
            "Epoch 67/100\n",
            "28/28 [==============================] - 0s 1ms/step - loss: 0.6790 - accuracy: 0.5585\n",
            "Epoch 68/100\n",
            "28/28 [==============================] - 0s 1ms/step - loss: 0.6774 - accuracy: 0.5630\n",
            "Epoch 69/100\n",
            "28/28 [==============================] - 0s 1ms/step - loss: 0.6790 - accuracy: 0.5817\n",
            "Epoch 70/100\n",
            "28/28 [==============================] - 0s 1ms/step - loss: 0.6819 - accuracy: 0.5688\n",
            "Epoch 71/100\n",
            "28/28 [==============================] - 0s 1ms/step - loss: 0.6800 - accuracy: 0.5746\n",
            "Epoch 72/100\n",
            "28/28 [==============================] - 0s 1ms/step - loss: 0.6778 - accuracy: 0.5693\n",
            "Epoch 73/100\n",
            "28/28 [==============================] - 0s 1ms/step - loss: 0.6790 - accuracy: 0.5708\n",
            "Epoch 74/100\n",
            "28/28 [==============================] - 0s 2ms/step - loss: 0.6759 - accuracy: 0.5700\n",
            "Epoch 75/100\n",
            "28/28 [==============================] - 0s 1ms/step - loss: 0.6812 - accuracy: 0.5684\n",
            "Epoch 76/100\n",
            "28/28 [==============================] - 0s 1ms/step - loss: 0.6862 - accuracy: 0.5489\n",
            "Epoch 77/100\n",
            "28/28 [==============================] - 0s 1ms/step - loss: 0.6757 - accuracy: 0.5680\n",
            "Epoch 78/100\n",
            "28/28 [==============================] - 0s 2ms/step - loss: 0.6838 - accuracy: 0.5502\n",
            "Epoch 79/100\n",
            "28/28 [==============================] - 0s 1ms/step - loss: 0.6840 - accuracy: 0.5451\n",
            "Epoch 80/100\n",
            "28/28 [==============================] - 0s 1ms/step - loss: 0.6794 - accuracy: 0.5633\n",
            "Epoch 81/100\n",
            "28/28 [==============================] - 0s 2ms/step - loss: 0.6784 - accuracy: 0.5511\n",
            "Epoch 82/100\n",
            "28/28 [==============================] - 0s 1ms/step - loss: 0.6817 - accuracy: 0.5722\n",
            "Epoch 83/100\n",
            "28/28 [==============================] - 0s 2ms/step - loss: 0.6809 - accuracy: 0.5580\n",
            "Epoch 84/100\n",
            "28/28 [==============================] - 0s 1ms/step - loss: 0.6809 - accuracy: 0.5683\n",
            "Epoch 85/100\n",
            "28/28 [==============================] - 0s 1ms/step - loss: 0.6768 - accuracy: 0.5773\n",
            "Epoch 86/100\n",
            "28/28 [==============================] - 0s 1ms/step - loss: 0.6820 - accuracy: 0.5546\n",
            "Epoch 87/100\n",
            "28/28 [==============================] - 0s 1ms/step - loss: 0.6811 - accuracy: 0.5574\n",
            "Epoch 88/100\n",
            "28/28 [==============================] - 0s 1ms/step - loss: 0.6816 - accuracy: 0.5636\n",
            "Epoch 89/100\n",
            "28/28 [==============================] - 0s 1ms/step - loss: 0.6837 - accuracy: 0.5583\n",
            "Epoch 90/100\n",
            "28/28 [==============================] - 0s 1ms/step - loss: 0.6819 - accuracy: 0.5635\n",
            "Epoch 91/100\n",
            "28/28 [==============================] - 0s 1ms/step - loss: 0.6786 - accuracy: 0.5814\n",
            "Epoch 92/100\n",
            "28/28 [==============================] - 0s 1ms/step - loss: 0.6792 - accuracy: 0.5740\n",
            "Epoch 93/100\n",
            "28/28 [==============================] - 0s 1ms/step - loss: 0.6805 - accuracy: 0.5614\n",
            "Epoch 94/100\n",
            "28/28 [==============================] - 0s 1ms/step - loss: 0.6854 - accuracy: 0.5521\n",
            "Epoch 95/100\n",
            "28/28 [==============================] - 0s 1ms/step - loss: 0.6780 - accuracy: 0.5708\n",
            "Epoch 96/100\n",
            "28/28 [==============================] - 0s 1ms/step - loss: 0.6802 - accuracy: 0.5734\n",
            "Epoch 97/100\n",
            "28/28 [==============================] - 0s 1ms/step - loss: 0.6789 - accuracy: 0.5760\n",
            "Epoch 98/100\n",
            "28/28 [==============================] - 0s 1ms/step - loss: 0.6806 - accuracy: 0.5573\n",
            "Epoch 99/100\n",
            "28/28 [==============================] - 0s 1ms/step - loss: 0.6757 - accuracy: 0.5802\n",
            "Epoch 100/100\n",
            "28/28 [==============================] - 0s 1ms/step - loss: 0.6767 - accuracy: 0.5716\n"
          ],
          "name": "stdout"
        },
        {
          "output_type": "execute_result",
          "data": {
            "text/plain": [
              "<tensorflow.python.keras.callbacks.History at 0x7fdfc8db5150>"
            ]
          },
          "metadata": {
            "tags": []
          },
          "execution_count": 93
        }
      ]
    },
    {
      "cell_type": "markdown",
      "metadata": {
        "id": "SzkYTRl4RrNz"
      },
      "source": [
        "# ---------------------------------------------------------------------------------------------------------------------------------------------"
      ]
    },
    {
      "cell_type": "markdown",
      "metadata": {
        "id": "RaqEFgABPHL9"
      },
      "source": [
        "# Obeservations"
      ]
    },
    {
      "cell_type": "markdown",
      "metadata": {
        "id": "rBDA5DSDPLtK"
      },
      "source": [
        "\n",
        "\n",
        "*   Afer hyperparameter tuning, it was found out that Decision Tree Classifier model has the best performance i.e 93% accuracy.\n",
        "*   It could be further enhanced by using Bagging/RandomForrest Classifier models.\n",
        "\n",
        "Reason for performance of Decision Tree Model is maybe due to the simplicity of the data and number of its dimensions"
      ]
    },
    {
      "cell_type": "markdown",
      "metadata": {
        "id": "39L0xOuoR3pL"
      },
      "source": [
        "# Thank You\n",
        "\n",
        "Credit- **Vinayaka K M**                           /        LinkedIn -[connect](https://www.linkedin.com/in/vinayaka-k-m-7917901b4/)"
      ]
    },
    {
      "cell_type": "code",
      "metadata": {
        "id": "_f1SqfQiSgaI"
      },
      "source": [
        ""
      ],
      "execution_count": null,
      "outputs": []
    }
  ]
}